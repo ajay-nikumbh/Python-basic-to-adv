{
 "cells": [
  {
   "cell_type": "markdown",
   "metadata": {},
   "source": [
    "### <center>Variables</center>"
   ]
  },
  {
   "cell_type": "markdown",
   "metadata": {},
   "source": [
    "#### <center>1. https://www.geeksforgeeks.org/python-set-2-variables-expressions-conditions-and-functions/</center>"
   ]
  },
  {
   "cell_type": "markdown",
   "metadata": {},
   "source": [
    "#### <center>Python | Set 2 (Variables, Expressions, Conditions and Functions)</center>"
   ]
  },
  {
   "cell_type": "markdown",
   "metadata": {},
   "source": [
    "#### <center>Running your First Code in Python</center>\n",
    "#### Python programs are not compiled, rather they are interpreted. Now, let us move to writing a python code and running it.\n",
    "#### Please make sure that python is installed on the system you are working. If it is not installed, download it from here. We will be using python 2.7.\n",
    "\n",
    "#### <center>Making a Python file</center>\n",
    "#### Python files are stored with the extension “.py”. Open text editor and save a file with the name “hello.py”. Open it and write the following code:"
   ]
  },
  {
   "cell_type": "code",
   "execution_count": 1,
   "metadata": {},
   "outputs": [
    {
     "name": "stdout",
     "output_type": "stream",
     "text": [
      "Hello World\n"
     ]
    }
   ],
   "source": [
    "print (\"Hello World\")\n",
    "# Notice that NO semi-colon is to be used\n"
   ]
  },
  {
   "cell_type": "markdown",
   "metadata": {},
   "source": [
    "#### <center>Variables in Python</center>\n",
    "#### Variables need not be declared first in python. \n",
    "#### They can be used directly. Variables in python are case sensitive as most of the other programming languages.\n",
    "#### Example:"
   ]
  },
  {
   "cell_type": "code",
   "execution_count": 2,
   "metadata": {},
   "outputs": [
    {
     "name": "stdout",
     "output_type": "stream",
     "text": [
      "3\n",
      "4\n"
     ]
    }
   ],
   "source": [
    "a = 3\n",
    "A = 4\n",
    "print( a)\n",
    "print (A)\n"
   ]
  },
  {
   "cell_type": "markdown",
   "metadata": {},
   "source": [
    "#### <center>Expressions in Python</center>\n",
    "#### Arithmetic operations in python can be performed by using arithmetic operators and some of the in-built functions.\n",
    "\n"
   ]
  },
  {
   "cell_type": "code",
   "execution_count": 3,
   "metadata": {},
   "outputs": [
    {
     "name": "stdout",
     "output_type": "stream",
     "text": [
      "5\n",
      "6\n"
     ]
    }
   ],
   "source": [
    "a = 2\n",
    "b = 3\n",
    "c = a + b\n",
    "print (c)\n",
    "d = a * b\n",
    "print (d)\n"
   ]
  },
  {
   "cell_type": "markdown",
   "metadata": {},
   "source": [
    "#### <center>Conditions in Python</center>\n",
    "#### Conditional output in python can be obtained by using if-else and elif (else if) statements."
   ]
  },
  {
   "cell_type": "code",
   "execution_count": 4,
   "metadata": {},
   "outputs": [
    {
     "name": "stdout",
     "output_type": "stream",
     "text": [
      "b is divisible by a\n"
     ]
    }
   ],
   "source": [
    "a = 3\n",
    "b = 9\n",
    "if b % a == 0 :\n",
    "    print (\"b is divisible by a\")\n",
    "elif b + 1 == 10:\n",
    "    print (\"Increment in b produces 10\")\n",
    "else:\n",
    "    print (\"You are in else statement\")\n"
   ]
  },
  {
   "cell_type": "markdown",
   "metadata": {},
   "source": [
    "#### <center>Functions in Python</center>\n",
    "#### A function in python is declared by the keyword ‘def’ before the name of the function. The return type of the function need not be specified explicitly in python. \n",
    "\n",
    "#### The function can be invoked by writing the function name followed by the parameter list in the brackets."
   ]
  },
  {
   "cell_type": "code",
   "execution_count": 6,
   "metadata": {},
   "outputs": [
    {
     "name": "stdout",
     "output_type": "stream",
     "text": [
      "a is divisible by b\n"
     ]
    }
   ],
   "source": [
    "# Function for checking the divisibility\n",
    "# Notice the indentation after function declaration\n",
    "# and if and else statements\n",
    "def checkDivisibility(a, b):\n",
    "    if a % b == 0 :\n",
    "        print (\"a is divisible by b\")\n",
    "    else:\n",
    "        print (\"a is not divisible by b\")\n",
    "#Driver program to test the above function\n",
    "checkDivisibility(4, 2)\n"
   ]
  },
  {
   "cell_type": "markdown",
   "metadata": {},
   "source": [
    "#### <center>2. https://www.geeksforgeeks.org/what-is-maximum-possible-value-of-an-integer-in-python/</center>"
   ]
  },
  {
   "cell_type": "markdown",
   "metadata": {},
   "source": [
    "#### <center>What is the maximum possible value of an integer in Python ?</center>"
   ]
  },
  {
   "cell_type": "code",
   "execution_count": 7,
   "metadata": {},
   "outputs": [
    {
     "name": "stdout",
     "output_type": "stream",
     "text": [
      "10000000000000000000000000000000000000000001\n"
     ]
    }
   ],
   "source": [
    "# A Python program to demonstrate that we can store\n",
    "# large numbers in Python\n",
    "\n",
    "x = 10000000000000000000000000000000000000000000\n",
    "x = x + 1\n",
    "print (x)\n"
   ]
  },
  {
   "cell_type": "code",
   "execution_count": 8,
   "metadata": {},
   "outputs": [
    {
     "name": "stdout",
     "output_type": "stream",
     "text": [
      "<class 'int'>\n",
      "<class 'int'>\n"
     ]
    }
   ],
   "source": [
    "# A Python program to show that there are two types in\n",
    "# Python 2.7 : int and long int\n",
    "# And in Python 3 there is only one type : int\n",
    "\n",
    "x = 10\n",
    "print(type(x))\n",
    "\n",
    "x = 10000000000000000000000000000000000000000000\n",
    "print(type(x))\n"
   ]
  },
  {
   "cell_type": "code",
   "execution_count": 1,
   "metadata": {},
   "outputs": [
    {
     "name": "stdout",
     "output_type": "stream",
     "text": [
      "100000000000000000000000000000000000000000000000000000000000000000000000000000000000000000000000000000000000000000000000000000000000000000000000000000000000000000000000000000000000000000000000000000000\n"
     ]
    }
   ],
   "source": [
    "# Printing 100 raise to power 100\n",
    "print(100**100)\n"
   ]
  },
  {
   "cell_type": "markdown",
   "metadata": {},
   "source": [
    "#### <center>3. https://www.geeksforgeeks.org/global-local-variables-python/</center>"
   ]
  },
  {
   "cell_type": "markdown",
   "metadata": {},
   "source": [
    "#### <center>Global and Local Variables in Python\n",
    "</center>"
   ]
  },
  {
   "cell_type": "markdown",
   "metadata": {},
   "source": [
    "#### Global variables are the one that is defined and declared outside a function and we need to use them inside a function. "
   ]
  },
  {
   "cell_type": "code",
   "execution_count": 16,
   "metadata": {},
   "outputs": [
    {
     "name": "stdout",
     "output_type": "stream",
     "text": [
      "I love Geeksforgeeks\n"
     ]
    }
   ],
   "source": [
    "# This function uses global variable s\n",
    "def f():\n",
    "    print(s)\n",
    "\n",
    "# Global scope\n",
    "s = \"I love Geeksforgeeks\"\n",
    "f()\n"
   ]
  },
  {
   "cell_type": "markdown",
   "metadata": {},
   "source": [
    "#### If a variable with the same name is defined inside the scope of function as well then it will print the value given inside the function only and not the global value.\n",
    "\n",
    "\n",
    "#### The question is, what will happen if we change the value of s inside of the function f()? Will it affect the globals as well? We test it in the following piece of code: \n",
    " "
   ]
  },
  {
   "cell_type": "code",
   "execution_count": 3,
   "metadata": {},
   "outputs": [
    {
     "ename": "UnboundLocalError",
     "evalue": "local variable 's' referenced before assignment",
     "output_type": "error",
     "traceback": [
      "\u001b[1;31m---------------------------------------------------------------------------\u001b[0m",
      "\u001b[1;31mUnboundLocalError\u001b[0m                         Traceback (most recent call last)",
      "\u001b[1;32m<ipython-input-3-287a15f6b0fc>\u001b[0m in \u001b[0;36m<module>\u001b[1;34m\u001b[0m\n\u001b[0;32m     10\u001b[0m \u001b[1;31m# Global scope\u001b[0m\u001b[1;33m\u001b[0m\u001b[1;33m\u001b[0m\u001b[1;33m\u001b[0m\u001b[0m\n\u001b[0;32m     11\u001b[0m \u001b[0ms\u001b[0m \u001b[1;33m=\u001b[0m \u001b[1;34m\"I love Geeksforgeeks\"\u001b[0m\u001b[1;33m\u001b[0m\u001b[1;33m\u001b[0m\u001b[0m\n\u001b[1;32m---> 12\u001b[1;33m \u001b[0mf\u001b[0m\u001b[1;33m(\u001b[0m\u001b[1;33m)\u001b[0m\u001b[1;33m\u001b[0m\u001b[1;33m\u001b[0m\u001b[0m\n\u001b[0m\u001b[0;32m     13\u001b[0m \u001b[0mprint\u001b[0m\u001b[1;33m(\u001b[0m\u001b[0ms\u001b[0m\u001b[1;33m)\u001b[0m\u001b[1;33m\u001b[0m\u001b[1;33m\u001b[0m\u001b[0m\n",
      "\u001b[1;32m<ipython-input-3-287a15f6b0fc>\u001b[0m in \u001b[0;36mf\u001b[1;34m()\u001b[0m\n\u001b[0;32m      1\u001b[0m \u001b[1;32mdef\u001b[0m \u001b[0mf\u001b[0m\u001b[1;33m(\u001b[0m\u001b[1;33m)\u001b[0m\u001b[1;33m:\u001b[0m\u001b[1;33m\u001b[0m\u001b[1;33m\u001b[0m\u001b[0m\n\u001b[1;32m----> 2\u001b[1;33m     \u001b[0mprint\u001b[0m\u001b[1;33m(\u001b[0m\u001b[0ms\u001b[0m\u001b[1;33m)\u001b[0m\u001b[1;33m\u001b[0m\u001b[1;33m\u001b[0m\u001b[0m\n\u001b[0m\u001b[0;32m      3\u001b[0m \u001b[1;33m\u001b[0m\u001b[0m\n\u001b[0;32m      4\u001b[0m     \u001b[1;31m# This program will NOT show error\u001b[0m\u001b[1;33m\u001b[0m\u001b[1;33m\u001b[0m\u001b[1;33m\u001b[0m\u001b[0m\n\u001b[0;32m      5\u001b[0m     \u001b[1;31m# if we comment below line.\u001b[0m\u001b[1;33m\u001b[0m\u001b[1;33m\u001b[0m\u001b[1;33m\u001b[0m\u001b[0m\n",
      "\u001b[1;31mUnboundLocalError\u001b[0m: local variable 's' referenced before assignment"
     ]
    }
   ],
   "source": [
    "def f():\n",
    "    print(s)\n",
    "\n",
    "    # This program will NOT show error\n",
    "    # if we comment below line.\n",
    "    s = \"Me too.\"\n",
    "\n",
    "    print(s)\n",
    "\n",
    "# Global scope\n",
    "s = \"I love Geeksforgeeks\"\n",
    "f()\n",
    "print(s)\n"
   ]
  },
  {
   "cell_type": "markdown",
   "metadata": {},
   "source": [
    "#### To make the above program work, we need to use the “global” keyword. We only need to use the global keyword in a function if we want to do assignments / change them. global is not needed for printing and accessing. \n",
    "\n",
    "#### Why? Python “assumes” that we want a local variable due to the assignment to s inside of f(), so the first print statement throws this error message.\n",
    "\n",
    "#### Any variable which is changed or created inside of a function is local if it hasn’t been declared as a global variable.\n",
    "\n",
    "#### To tell Python, that we want to use the global variable, we have to use the keyword “global”, as can be seen in the following example: "
   ]
  },
  {
   "cell_type": "code",
   "execution_count": 4,
   "metadata": {},
   "outputs": [
    {
     "name": "stdout",
     "output_type": "stream",
     "text": [
      "Python is great!\n",
      "Look for Geeksforgeeks Python Section\n",
      "Look for Geeksforgeeks Python Section\n"
     ]
    }
   ],
   "source": [
    "# This function modifies the global variable 's'\n",
    "def f():\n",
    "\tglobal s\n",
    "\tprint(s)\n",
    "\ts = \"Look for Geeksforgeeks Python Section\"\n",
    "\tprint(s)\n",
    "\n",
    "# Global Scope\n",
    "s = \"Python is great!\"\n",
    "f()\n",
    "print(s)\n"
   ]
  },
  {
   "cell_type": "code",
   "execution_count": 5,
   "metadata": {},
   "outputs": [
    {
     "name": "stdout",
     "output_type": "stream",
     "text": [
      "global :  1\n",
      "Inside f() :  1\n",
      "global :  1\n",
      "Inside g() :  2\n",
      "global :  1\n",
      "Inside h() :  3\n",
      "global :  3\n"
     ]
    }
   ],
   "source": [
    "a = 1\n",
    "\n",
    "# Uses global because there is no local 'a'\n",
    "def f():\n",
    "\tprint('Inside f() : ', a)\n",
    "\n",
    "# Variable 'a' is redefined as a local\n",
    "def g():\n",
    "\ta = 2\n",
    "\tprint('Inside g() : ', a)\n",
    "\n",
    "# Uses global keyword to modify global 'a'\n",
    "def h():\n",
    "\tglobal a\n",
    "\ta = 3\n",
    "\tprint('Inside h() : ', a)\n",
    "\n",
    "# Global scope\n",
    "print('global : ',a)\n",
    "f()\n",
    "print('global : ',a)\n",
    "g()\n",
    "print('global : ',a)\n",
    "h()\n",
    "print('global : ',a)\n"
   ]
  },
  {
   "cell_type": "markdown",
   "metadata": {},
   "source": [
    "#### <center>4. https://www.geeksforgeeks.org/packing-and-unpacking-arguments-in-python/</center>"
   ]
  },
  {
   "cell_type": "markdown",
   "metadata": {},
   "source": [
    "#### <center>Packing and Unpacking Arguments in Python</center>"
   ]
  },
  {
   "cell_type": "code",
   "execution_count": 7,
   "metadata": {},
   "outputs": [
    {
     "ename": "TypeError",
     "evalue": "fun() missing 3 required positional arguments: 'b', 'c', and 'd'",
     "output_type": "error",
     "traceback": [
      "\u001b[1;31m---------------------------------------------------------------------------\u001b[0m",
      "\u001b[1;31mTypeError\u001b[0m                                 Traceback (most recent call last)",
      "\u001b[1;32m<ipython-input-7-8fe5e99ce739>\u001b[0m in \u001b[0;36m<module>\u001b[1;34m\u001b[0m\n\u001b[0;32m     11\u001b[0m \u001b[1;33m\u001b[0m\u001b[0m\n\u001b[0;32m     12\u001b[0m \u001b[1;31m# This doesn't work\u001b[0m\u001b[1;33m\u001b[0m\u001b[1;33m\u001b[0m\u001b[1;33m\u001b[0m\u001b[0m\n\u001b[1;32m---> 13\u001b[1;33m \u001b[0mfun\u001b[0m\u001b[1;33m(\u001b[0m\u001b[0mmy_list\u001b[0m\u001b[1;33m)\u001b[0m\u001b[1;33m\u001b[0m\u001b[1;33m\u001b[0m\u001b[0m\n\u001b[0m",
      "\u001b[1;31mTypeError\u001b[0m: fun() missing 3 required positional arguments: 'b', 'c', and 'd'"
     ]
    }
   ],
   "source": [
    "# A Python program to demonstrate need\n",
    "# of packing and unpacking\n",
    "\n",
    "# A sample function that takes 4 arguments\n",
    "# and prints them.\n",
    "def fun(a, b, c, d):\n",
    "    print(a, b, c, d)\n",
    "\n",
    "# Driver Code\n",
    "my_list = [1, 2, 3, 4]\n",
    "\n",
    "# This doesn't work\n",
    "fun(my_list)\n"
   ]
  },
  {
   "cell_type": "markdown",
   "metadata": {},
   "source": [
    "#### <center>Unpacking </center>\n",
    "#### We can use * to unpack the list so that all elements of it can be passed as different parameters."
   ]
  },
  {
   "cell_type": "code",
   "execution_count": 8,
   "metadata": {},
   "outputs": [
    {
     "name": "stdout",
     "output_type": "stream",
     "text": [
      "1 2 3 4\n"
     ]
    }
   ],
   "source": [
    "# A sample function that takes 4 arguments\n",
    "# and prints the,\n",
    "def fun(a, b, c, d):\n",
    "    print(a, b, c, d)\n",
    "\n",
    "# Driver Code\n",
    "my_list = [1, 2, 3, 4]\n",
    "\n",
    "# Unpacking list into four arguments\n",
    "fun(*my_list)\n"
   ]
  },
  {
   "cell_type": "markdown",
   "metadata": {},
   "source": [
    "#### We need to keep in mind that the no. of arguments must be the same as the length of the list that we are unpacking for the arguments."
   ]
  },
  {
   "cell_type": "code",
   "execution_count": 9,
   "metadata": {},
   "outputs": [
    {
     "ename": "TypeError",
     "evalue": "func() takes 3 positional arguments but 4 were given",
     "output_type": "error",
     "traceback": [
      "\u001b[1;31m---------------------------------------------------------------------------\u001b[0m",
      "\u001b[1;31mTypeError\u001b[0m                                 Traceback (most recent call last)",
      "\u001b[1;32m<ipython-input-9-636e58e41d67>\u001b[0m in \u001b[0;36m<module>\u001b[1;34m\u001b[0m\n\u001b[0;32m     10\u001b[0m \u001b[1;33m\u001b[0m\u001b[0m\n\u001b[0;32m     11\u001b[0m \u001b[1;31m# calling function with unpacking args\u001b[0m\u001b[1;33m\u001b[0m\u001b[1;33m\u001b[0m\u001b[1;33m\u001b[0m\u001b[0m\n\u001b[1;32m---> 12\u001b[1;33m \u001b[0mfunc\u001b[0m\u001b[1;33m(\u001b[0m\u001b[1;33m*\u001b[0m\u001b[0margs\u001b[0m\u001b[1;33m)\u001b[0m\u001b[1;33m\u001b[0m\u001b[1;33m\u001b[0m\u001b[0m\n\u001b[0m",
      "\u001b[1;31mTypeError\u001b[0m: func() takes 3 positional arguments but 4 were given"
     ]
    }
   ],
   "source": [
    "# Error when len(args) != no of actual arguments\n",
    "# required by the funcntion\n",
    "\n",
    "args = [0, 1, 4, 9]\n",
    "\n",
    "\n",
    "def func(a, b, c):\n",
    "    return a + b + c\n",
    "\n",
    "\n",
    "# calling function with unpacking args\n",
    "func(*args)\n"
   ]
  },
  {
   "cell_type": "markdown",
   "metadata": {},
   "source": [
    "#### As another example, consider the built-in range() function that expects separate start and stops arguments. \n",
    "\n",
    "#### If they are not available separately, write the function call with the *-operator to unpack the arguments out of a list or tuple: "
   ]
  },
  {
   "cell_type": "code",
   "execution_count": 10,
   "metadata": {},
   "outputs": [
    {
     "data": {
      "text/plain": [
       "range(3, 6)"
      ]
     },
     "execution_count": 10,
     "metadata": {},
     "output_type": "execute_result"
    }
   ],
   "source": [
    "range(3, 6) # normal call with separate arguments\n",
    "args = [3, 6]\n",
    "range(*args) # call with arguments unpacked from a list\n",
    "\n"
   ]
  },
  {
   "cell_type": "markdown",
   "metadata": {},
   "source": [
    "#### <center>Packing </center>\n",
    "#### When we don’t know how many arguments need to be passed to a python function, we can use Packing to pack all arguments in a tuple. \n",
    " "
   ]
  },
  {
   "cell_type": "code",
   "execution_count": 11,
   "metadata": {},
   "outputs": [
    {
     "name": "stdout",
     "output_type": "stream",
     "text": [
      "15\n",
      "30\n"
     ]
    }
   ],
   "source": [
    "# A Python program to demonstrate use\n",
    "# of packing\n",
    "\n",
    "# This function uses packing to sum\n",
    "# unknown number of arguments\n",
    "def mySum(*args):\n",
    "    return sum(args)\n",
    "\n",
    "# Driver code\n",
    "print(mySum(1, 2, 3, 4, 5))\n",
    "print(mySum(10, 20))\n"
   ]
  },
  {
   "cell_type": "markdown",
   "metadata": {},
   "source": [
    "#### The above function mySum() does ‘packing’ to pack all the arguments that this method call receives into one single variable. \n",
    "\n",
    "#### Once we have this ‘packed’ variable, we can do things with it that we would with a normal tuple. args[0] and args[1] would give you the first and second argument, respectively. \n",
    "\n",
    "#### Since our tuples are immutable, you can convert the args tuple to a list so you can also modify, delete, and re-arrange items in i.\n",
    " "
   ]
  },
  {
   "cell_type": "markdown",
   "metadata": {},
   "source": [
    "#### <center>packing and Unpacking </center>\n",
    "#### Below is an example that shows both packing and unpacking. "
   ]
  },
  {
   "cell_type": "code",
   "execution_count": 13,
   "metadata": {},
   "outputs": [
    {
     "name": "stdout",
     "output_type": "stream",
     "text": [
      "Geeksforgeeks awesome world!\n"
     ]
    }
   ],
   "source": [
    "# A Python program to demonstrate both packing and\n",
    "# unpacking.\n",
    "\n",
    "# A sample python function that takes three arguments\n",
    "# and prints them\n",
    "def fun1(a, b, c):\n",
    "    print(a, b, c)\n",
    "\n",
    "# Another sample function.\n",
    "# This is an example of PACKING. All arguments passed\n",
    "# to fun2 are packed into tuple *args.\n",
    "def fun2(*args):\n",
    "\n",
    "    # Convert args tuple to a list so we can modify it\n",
    "    args = list(args)\n",
    "\n",
    "    # Modifying args\n",
    "    args[0] = 'Geeksforgeeks'\n",
    "    args[1] = 'awesome'\n",
    "\n",
    "    # UNPACKING args and calling fun1()\n",
    "    fun1(*args)\n",
    "\n",
    "# Driver code\n",
    "fun2('Hello', 'beautiful', 'world!')\n"
   ]
  },
  {
   "cell_type": "markdown",
   "metadata": {},
   "source": [
    "#### ** is used for dictionaries "
   ]
  },
  {
   "cell_type": "code",
   "execution_count": 14,
   "metadata": {},
   "outputs": [
    {
     "name": "stdout",
     "output_type": "stream",
     "text": [
      "2 4 10\n"
     ]
    }
   ],
   "source": [
    "# A sample program to demonstrate unpacking of\n",
    "# dictionary items using **\n",
    "def fun(a, b, c):\n",
    "    print(a, b, c)\n",
    "\n",
    "# A call with unpacking of dictionary\n",
    "d = {'a':2, 'b':4, 'c':10}\n",
    "fun(**d)\n"
   ]
  },
  {
   "cell_type": "markdown",
   "metadata": {},
   "source": [
    "#### Here ** unpacked the dictionary used with it, and passed the items in the dictionary as keyword arguments to the function. \n",
    "\n",
    "#### So writing “fun(1, **d)” was equivalent to writing “fun(1, b=4, c=10)”."
   ]
  },
  {
   "cell_type": "code",
   "execution_count": 15,
   "metadata": {},
   "outputs": [
    {
     "name": "stdout",
     "output_type": "stream",
     "text": [
      "<class 'dict'>\n",
      "name = geeks\n",
      "ID = 101\n",
      "language = Python\n"
     ]
    }
   ],
   "source": [
    "# A Python program to demonstrate packing of\n",
    "# dictionary items using **\n",
    "def fun(**kwargs):\n",
    "\n",
    "    # kwargs is a dict\n",
    "    print(type(kwargs))\n",
    "\n",
    "    # Printing dictionary items\n",
    "    for key in kwargs:\n",
    "        print(\"%s = %s\" % (key, kwargs[key]))\n",
    "\n",
    "# Driver code\n",
    "fun(name=\"geeks\", ID=\"101\", language=\"Python\")\n"
   ]
  },
  {
   "cell_type": "markdown",
   "metadata": {},
   "source": [
    "#### <center>Applications and Important Points </center>\n",
    "\n",
    "#### 1. Used in socket programming to send a vast number of requests to a server. \n",
    "#### 2. Used in the Django framework to send variable arguments to view functions. \n",
    "#### 3. There are wrapper functions that require us to pass in variable arguments.\n",
    "#### 4. Modification of arguments becomes easy, but at the same time validation is not proper, so they must be used with care. "
   ]
  },
  {
   "cell_type": "markdown",
   "metadata": {},
   "source": [
    "#### <center>5. https://www.geeksforgeeks.org/type-conversion-python/</center>"
   ]
  },
  {
   "cell_type": "markdown",
   "metadata": {},
   "source": [
    "#### <center>Type Conversion in Python</center>"
   ]
  },
  {
   "cell_type": "markdown",
   "metadata": {},
   "source": [
    "#### Python defines type conversion functions to directly convert one data type to another which is useful in day to day and competitive programming. \n",
    "\n",
    "#### This article is aimed at providing information about certain conversion functions.\n",
    "\n",
    "#### There are two types of Type Conversion in Python:\n",
    "\n",
    "#### 1. Implicit Type Conversion\n",
    "#### 2. Explicit Type Conversion\n",
    "\n",
    "\n"
   ]
  },
  {
   "cell_type": "markdown",
   "metadata": {},
   "source": [
    "#### <center>1. Implicit Type Conversion</center>\n",
    "#### In Implicit type conversion of data types in Python, the Python interpreter automatically converts one data type to another without any user involvement. \n",
    "\n"
   ]
  },
  {
   "cell_type": "code",
   "execution_count": 16,
   "metadata": {},
   "outputs": [
    {
     "name": "stdout",
     "output_type": "stream",
     "text": [
      "x is of type: <class 'int'>\n",
      "y is of type: <class 'float'>\n",
      "20.6\n",
      "x is of type: <class 'float'>\n"
     ]
    }
   ],
   "source": [
    "x = 10\n",
    "\n",
    "print(\"x is of type:\",type(x))\n",
    "\n",
    "y = 10.6\n",
    "print(\"y is of type:\",type(y))\n",
    "\n",
    "x = x + y\n",
    "\n",
    "print(x)\n",
    "print(\"x is of type:\",type(x))\n"
   ]
  },
  {
   "cell_type": "markdown",
   "metadata": {},
   "source": [
    "#### As we can see the type od ‘x’ got automatically changed to the “float” type from the “integer” type. this is a simple case of Implicit type conversion in python.\n",
    "\n"
   ]
  },
  {
   "cell_type": "markdown",
   "metadata": {},
   "source": [
    "#### <center>2. Explicit Type Conversion</center>\n",
    "#### In Explicit Type Conversion in Python, the data type is manually changed by the user as per their requirement. Various form of explicit type conversion are explained below:\n",
    " \n",
    "\n",
    "#### 1. int(a, base): This function converts any data type to integer. ‘Base’ specifies the base in which string is if the data type is a string.\n",
    "#### 2. float(): This function is used to convert any data type to a floating-point number "
   ]
  },
  {
   "cell_type": "code",
   "execution_count": 17,
   "metadata": {},
   "outputs": [
    {
     "name": "stdout",
     "output_type": "stream",
     "text": [
      "After converting to integer base 2 : 18\n",
      "After converting to float : 10010.0\n"
     ]
    }
   ],
   "source": [
    "# Python code to demonstrate Type conversion\n",
    "# using int(), float()\n",
    "\n",
    "# initializing string\n",
    "s = \"10010\"\n",
    "\n",
    "# printing string converting to int base 2\n",
    "c = int(s,2)\n",
    "print (\"After converting to integer base 2 : \", end=\"\")\n",
    "print (c)\n",
    "\n",
    "# printing string converting to float\n",
    "e = float(s)\n",
    "print (\"After converting to float : \", end=\"\")\n",
    "print (e)\n"
   ]
  },
  {
   "cell_type": "markdown",
   "metadata": {},
   "source": [
    "#### 3. ord() : This function is used to convert a character to integer.\n",
    "#### 4. hex() : This function is to convert integer to hexadecimal string.\n",
    "#### 5. oct() : This function is to convert integer to octal string."
   ]
  },
  {
   "cell_type": "code",
   "execution_count": 18,
   "metadata": {},
   "outputs": [
    {
     "name": "stdout",
     "output_type": "stream",
     "text": [
      "After converting character to integer : 52\n",
      "After converting 56 to hexadecimal string : 0x38\n",
      "After converting 56 to octal string : 0o70\n"
     ]
    }
   ],
   "source": [
    "# Python code to demonstrate Type conversion\n",
    "# using ord(), hex(), oct()\n",
    "\n",
    "# initializing integer\n",
    "s = '4'\n",
    "\n",
    "# printing character converting to integer\n",
    "c = ord(s)\n",
    "print (\"After converting character to integer : \",end=\"\")\n",
    "print (c)\n",
    "\n",
    "# printing integer converting to hexadecimal string\n",
    "c = hex(56)\n",
    "print (\"After converting 56 to hexadecimal string : \",end=\"\")\n",
    "print (c)\n",
    "\n",
    "# printing integer converting to octal string\n",
    "c = oct(56)\n",
    "print (\"After converting 56 to octal string : \",end=\"\")\n",
    "print (c)\n"
   ]
  },
  {
   "cell_type": "markdown",
   "metadata": {},
   "source": [
    "#### 6. tuple() : This function is used to convert to a tuple.\n",
    "#### 7. set() : This function returns the type after converting to set.\n",
    "#### 8. list() : This function is used to convert any data type to a list type.\n",
    " "
   ]
  },
  {
   "cell_type": "code",
   "execution_count": 19,
   "metadata": {},
   "outputs": [
    {
     "name": "stdout",
     "output_type": "stream",
     "text": [
      "After converting string to tuple : ('g', 'e', 'e', 'k', 's')\n",
      "After converting string to set : {'g', 'e', 's', 'k'}\n",
      "After converting string to list : ['g', 'e', 'e', 'k', 's']\n"
     ]
    }
   ],
   "source": [
    "# Python code to demonstrate Type conversion\n",
    "# using tuple(), set(), list()\n",
    "\n",
    "# initializing string\n",
    "s = 'geeks'\n",
    "\n",
    "# printing string converting to tuple\n",
    "c = tuple(s)\n",
    "print (\"After converting string to tuple : \",end=\"\")\n",
    "print (c)\n",
    "\n",
    "# printing string converting to set\n",
    "c = set(s)\n",
    "print (\"After converting string to set : \",end=\"\")\n",
    "print (c)\n",
    "\n",
    "# printing string converting to list\n",
    "c = list(s)\n",
    "print (\"After converting string to list : \",end=\"\")\n",
    "print (c)\n"
   ]
  },
  {
   "cell_type": "markdown",
   "metadata": {},
   "source": [
    "#### 9. dict() : This function is used to convert a tuple of order (key,value) into a dictionary.\n",
    "#### 10. str() : Used to convert integer into a string.\n",
    "#### 11. complex(real,imag) : : This function converts real numbers to complex(real,imag) number."
   ]
  },
  {
   "cell_type": "code",
   "execution_count": 20,
   "metadata": {},
   "outputs": [
    {
     "name": "stdout",
     "output_type": "stream",
     "text": [
      "After converting integer to complex number : (1+2j)\n",
      "After converting integer to string : 1\n",
      "After converting tuple to dictionary : {'a': 1, 'f': 2, 'g': 3}\n"
     ]
    }
   ],
   "source": [
    "# Python code to demonstrate Type conversion\n",
    "# using dict(), complex(), str()\n",
    "\n",
    "# initializing integers\n",
    "a = 1\n",
    "b = 2\n",
    "\n",
    "# initializing tuple\n",
    "tup = (('a', 1) ,('f', 2), ('g', 3))\n",
    "\n",
    "# printing integer converting to complex number\n",
    "c = complex(1,2)\n",
    "print (\"After converting integer to complex number : \",end=\"\")\n",
    "print (c)\n",
    "\n",
    "# printing integer converting to string\n",
    "c = str(a)\n",
    "print (\"After converting integer to string : \",end=\"\")\n",
    "print (c)\n",
    "\n",
    "# printing tuple converting to expression dictionary\n",
    "c = dict(tup)\n",
    "print (\"After converting tuple to dictionary : \",end=\"\")\n",
    "print (c)\n"
   ]
  },
  {
   "cell_type": "markdown",
   "metadata": {},
   "source": [
    "#### 12. chr(number) : : This function converts number to its corresponding ASCII character."
   ]
  },
  {
   "cell_type": "code",
   "execution_count": 21,
   "metadata": {},
   "outputs": [
    {
     "name": "stdout",
     "output_type": "stream",
     "text": [
      "L\n",
      "M\n"
     ]
    }
   ],
   "source": [
    "# Convert ASCII value to characters\n",
    "a = chr(76)\n",
    "b = chr(77)\n",
    "\n",
    "print(a)\n",
    "print(b)\n"
   ]
  },
  {
   "cell_type": "markdown",
   "metadata": {},
   "source": [
    "#### <center>6. https://www.geeksforgeeks.org/byte-objects-vs-string-python/</center>"
   ]
  },
  {
   "cell_type": "markdown",
   "metadata": {},
   "source": [
    "#### <center>Byte Objects vs String in Python</center>"
   ]
  },
  {
   "cell_type": "markdown",
   "metadata": {},
   "source": [
    "#### In Python 2, both str and bytes are the same typeByte objects whereas in Python 3 Byte objects, defined in Python 3 are “sequence of bytes” and similar to “unicode” objects from Python 2.\n",
    "\n",
    "#### However, there are many differences in strings and Byte objects. Some of them are depicted below: \n",
    "#### Byte objects are sequence of Bytes, whereas Strings are sequence of characters.\n",
    "#### Byte objects are in machine readable form internally, Strings are only in human readable form.\n",
    "#### Since Byte objects are machine readable, they can be directly stored on the disk. Whereas, Strings need encoding before which they can be stored on disk."
   ]
  },
  {
   "cell_type": "markdown",
   "metadata": {},
   "source": [
    "#### <center>Encoding</center>\n",
    "#### PNG, JPEG, MP3, WAV, ASCII, UTF-8 etc are different forms of encodings. An encoding is a format to represent audio, images, text, etc in bytes. \n",
    "\n",
    "#### Converting Strings to byte objects is termed as encoding. \n",
    "\n",
    "#### This is necessary so that the text can be stored on disk using mapping using ASCII or UTF-8 encoding techniques.\n",
    "#### This task is achieved using encode().\n",
    "#### It take encoding technique as argument. Default technique is “UTF-8” technique."
   ]
  },
  {
   "cell_type": "code",
   "execution_count": 22,
   "metadata": {},
   "outputs": [
    {
     "name": "stdout",
     "output_type": "stream",
     "text": [
      "Encoding successful\n"
     ]
    }
   ],
   "source": [
    "# Python code to demonstrate String encoding\n",
    "\n",
    "# initialising a String\n",
    "a = 'GeeksforGeeks'\n",
    "\n",
    "# initialising a byte object\n",
    "c = b'GeeksforGeeks'\n",
    "\n",
    "# using encode() to encode the String\n",
    "# encoded version of a is stored in d\n",
    "# using ASCII mapping\n",
    "d = a.encode('ASCII')\n",
    "\n",
    "# checking if a is converted to bytes or not\n",
    "if (d==c):\n",
    "    print (\"Encoding successful\")\n",
    "else : print (\"Encoding Unsuccessful\")\n"
   ]
  },
  {
   "cell_type": "markdown",
   "metadata": {},
   "source": [
    "#### <center>Decoding</center>\n",
    "#### Similarly, Decoding is process to convert a Byte object to String. It is implemented using decode() . \n",
    "\n",
    "#### A byte string can be decoded back into a character string, if you know which encoding was used to encode it. Encoding and Decoding are inverse processes. "
   ]
  },
  {
   "cell_type": "code",
   "execution_count": 23,
   "metadata": {},
   "outputs": [
    {
     "name": "stdout",
     "output_type": "stream",
     "text": [
      "Decoding successful\n"
     ]
    }
   ],
   "source": [
    "# Python code to demonstrate Byte Decoding\n",
    "\n",
    "# initialising a String\n",
    "a = 'GeeksforGeeks'\n",
    "\n",
    "# initialising a byte object\n",
    "c = b'GeeksforGeeks'\n",
    "\n",
    "# using decode() to decode the Byte object\n",
    "# decoded version of c is stored in d\n",
    "# using ASCII mapping\n",
    "d = c.decode('ASCII')\n",
    "\n",
    "# checking if c is converted to String or not\n",
    "if (d==a):\n",
    "\tprint (\"Decoding successful\")\n",
    "else : print (\"Decoding Unsuccessful\")\n"
   ]
  },
  {
   "cell_type": "markdown",
   "metadata": {},
   "source": [
    "#### <center>7. https://www.geeksforgeeks.org/g-fact-25-print-single-multiple-variable-python/</center>"
   ]
  },
  {
   "cell_type": "markdown",
   "metadata": {},
   "source": [
    "#### <center>Print Single and Multiple variable in Python</center>"
   ]
  },
  {
   "cell_type": "markdown",
   "metadata": {},
   "source": [
    "#### In Python 3.X, the print statement is written as print() function.\n",
    "#### Below code in Python 3.X that shows the process of printing values in Python.\n",
    "#### Example 1: Printing Single value"
   ]
  },
  {
   "cell_type": "code",
   "execution_count": 24,
   "metadata": {},
   "outputs": [
    {
     "name": "stdout",
     "output_type": "stream",
     "text": [
      "1\n",
      "1\n"
     ]
    }
   ],
   "source": [
    "# Equivalent codes in Python 3.0\n",
    "# (Produces same output)\n",
    "\n",
    "# Code 1:\n",
    "print(1)\n",
    "\n",
    "# Code 2 :\n",
    "print((1))\n"
   ]
  },
  {
   "cell_type": "markdown",
   "metadata": {},
   "source": [
    "#### Example 2: Printing multiple values \n",
    " "
   ]
  },
  {
   "cell_type": "code",
   "execution_count": 25,
   "metadata": {},
   "outputs": [
    {
     "name": "stdout",
     "output_type": "stream",
     "text": [
      "1 2\n",
      "(1, 2)\n",
      "1 2\n"
     ]
    }
   ],
   "source": [
    "# Code 1:\n",
    "print(1, 2)\n",
    "\n",
    "# Code 2:\n",
    "print((1, 2))\n",
    "\n",
    "# Code 3:\n",
    "# printing on the same line\n",
    "# for printing on the same line use end parameters of the print function\n",
    "# end takes the values which is printing at the end of the output.\n",
    "print(1, end=\" \")\n",
    "print(2)\n"
   ]
  },
  {
   "cell_type": "markdown",
   "metadata": {},
   "source": [
    "#### <center>8. https://www.geeksforgeeks.org/swap-two-variables-in-one-line-in-c-c-python-php-and-java/</center>"
   ]
  },
  {
   "cell_type": "markdown",
   "metadata": {},
   "source": [
    "#### <center>Swap two variables in one line</center>"
   ]
  },
  {
   "cell_type": "markdown",
   "metadata": {},
   "source": [
    "#### Python: In Python, there is a simple and syntactically neat construct to swap variables\n",
    "#### we just need to write “x, y = y, x”."
   ]
  },
  {
   "cell_type": "markdown",
   "metadata": {},
   "source": [
    "#### <center>9. https://www.geeksforgeeks.org/private-variables-python/</center>"
   ]
  },
  {
   "cell_type": "markdown",
   "metadata": {},
   "source": [
    "#### <center>Private Variables in Python</center>"
   ]
  },
  {
   "cell_type": "markdown",
   "metadata": {},
   "source": [
    "#### <center>Prerequisite: Underscore in Python</center>\n",
    "#### In Python, there is no existence of “Private” instance variables that cannot be accessed except inside an object. \n",
    "\n",
    "#### However, a convention is being followed by most Python code and coders i.e., a name prefixed with an underscore, For e.g. _geek should be treated as a non-public part of the API or any Python code, whether it is a function, a method, or a data member. \n",
    "\n",
    "#### While going through this we would also try to understand the concept of various forms of trailing underscores, for e.g., for _ in range(10), __init__(self). "
   ]
  },
  {
   "cell_type": "markdown",
   "metadata": {},
   "source": [
    "#### <center>Mangling and how it works</center>\n",
    "\n",
    "#### In Python, there is something called name mangling, which means that there is a limited support for a valid use-case for class-private members basically to avoid name clashes of names with names defined by subclasses. \n",
    "\n",
    "#### Any identifier of the form __geek (at least two leading underscores or at most one trailing underscore) is replaced with _classname__geek, where classname is the current class name with a leading underscore(s) stripped.\n",
    "\n",
    "#### As long as it occurs within the definition of the class, this mangling is done. This is helpful for letting subclasses override methods without breaking intraclass method calls. \n",
    "\n",
    "#### Let’s look at this example and try to find out how this underscore works: "
   ]
  },
  {
   "cell_type": "code",
   "execution_count": 27,
   "metadata": {},
   "outputs": [],
   "source": [
    "# Python code to illustrate how mangling works\n",
    "class Map:\n",
    "    def __init__(self, iterate):\n",
    "        self.list = []\n",
    "        self.__geek(iterate)\n",
    "    \n",
    "    def geek(self, iterate):\n",
    "        for item in iterate:\n",
    "            self.list.append(item)\n",
    "\n",
    "    # private copy of original geek() method\n",
    "    __geek = geek\n",
    "\n",
    "class MapSubclass(Map):\n",
    "    \n",
    "    # provides new signature for geek() but\n",
    "    # does not break __init__()\n",
    "    def geek(self, key, value):\t\n",
    "        for i in zip(keys, value):\n",
    "            self.list.append(i)\n"
   ]
  },
  {
   "cell_type": "markdown",
   "metadata": {},
   "source": [
    "#### The mangling rules are designed mostly to avoid accidents but it is still possible to access or modify a variable that is considered private.\n",
    "\n",
    "#### This can even be useful in special circumstances, such as in the debugger.\n",
    " "
   ]
  },
  {
   "cell_type": "markdown",
   "metadata": {},
   "source": [
    "#### <center>_Single Leading Underscores</center>\n",
    "\n",
    "\n",
    "\n",
    "#### So basically one underline in the beginning of a method, function, or data member means you shouldn’t access this method because it’s not part of the API. \n",
    "\n",
    "#### Let’s look at this snippet of code: "
   ]
  },
  {
   "cell_type": "code",
   "execution_count": 28,
   "metadata": {},
   "outputs": [],
   "source": [
    "# Python code to illustrate\n",
    "# how single underscore works\n",
    "def _get_errors(self):\n",
    "    if self._errors is None:\n",
    "        self.full_clean()\n",
    "    return self._errors\n",
    "\n",
    "errors = property(_get_errors)\n"
   ]
  },
  {
   "cell_type": "markdown",
   "metadata": {},
   "source": [
    "#### The snippet is taken from the Django source code (django/forms/forms.py). \n",
    "#### This suggests that errors is a property, and it’s also a part of the API, but the method, _get_errors, is “private”, so one shouldn’t access it.\n",
    " "
   ]
  },
  {
   "cell_type": "markdown",
   "metadata": {},
   "source": [
    "#### <center> __Double Leading Underscores</center>\n",
    "\n",
    "#### Two underlines, in the beginning, cause a lot of confusion.\n",
    "#### This is about syntax rather than a convention. double underscore will mangle the attribute names of a class to avoid conflicts of attribute names between classes. For example: "
   ]
  },
  {
   "cell_type": "code",
   "execution_count": 29,
   "metadata": {},
   "outputs": [],
   "source": [
    "# Python code to illustrate how double\n",
    "# underscore at the beginning works\n",
    "class Geek:\n",
    "    def _single_method(self):\n",
    "        pass\n",
    "    def __double_method(self): # for mangling\n",
    "        pass\n",
    "\n",
    "class Pyth(Geek):\n",
    "    def __double_method(self): # for mangling\n",
    "        pass\n"
   ]
  },
  {
   "cell_type": "markdown",
   "metadata": {},
   "source": [
    "#### <center>__Double leading and Double trailing underscores__</center>\n",
    "\n",
    "#### There’s another case of double leading and trailing underscores. \n",
    "#### We follow this while using special variables or methods (called “magic method”) such as__len__, __init__.\n",
    "\n",
    "#### These methods provide special syntactic features to the names. For example, __file__ indicates the location of the Python file, __eq__ is executed when a == b expression is executed. \n",
    "\n",
    "#### Example: "
   ]
  },
  {
   "cell_type": "code",
   "execution_count": 30,
   "metadata": {},
   "outputs": [],
   "source": [
    "# Python code to illustrate double leading and\n",
    "# double trailing underscore works\n",
    "class Geek:\n",
    "\n",
    "    # '__init__' for initializing, this is a\n",
    "    # special method\n",
    "    \n",
    "    def __init__(self, ab):\n",
    "        self.ab = ab\n",
    "\n",
    "    # custom special method. try not to use it\n",
    "    \n",
    "    def __custom__(self):\n",
    "        pass\n"
   ]
  },
  {
   "cell_type": "markdown",
   "metadata": {},
   "source": [
    "#### <center>10. https://www.geeksforgeeks.org/__name__-special-variable-python/</center>"
   ]
  },
  {
   "cell_type": "markdown",
   "metadata": {},
   "source": [
    "#### <center>__name__ (A Special variable) in Python</center>"
   ]
  },
  {
   "cell_type": "markdown",
   "metadata": {},
   "source": [
    "#### Since there is no main() function in Python, when the command to run a python program is given to the interpreter, the code that is at level 0 indentation is to be executed. \n",
    "\n",
    "#### However, before doing that, it will define a few special variables. __name__ is one such special variable.\n",
    "\n",
    "#### If the source file is executed as the main program, the interpreter sets the __name__ variable to have a value “__main__”. \n",
    "\n",
    "#### If this file is being imported from another module, __name__ will be set to the module’s name.\n",
    "\n",
    "#### __name__ is a built-in variable which evaluates to the name of the current module. \n",
    "\n",
    "#### Thus it can be used to check whether the current script is being run on its own or being imported somewhere else by combining it with if statement, as shown below.\n",
    "\n",
    "#### Consider two separate files File1 and File2."
   ]
  },
  {
   "cell_type": "code",
   "execution_count": 31,
   "metadata": {},
   "outputs": [
    {
     "name": "stdout",
     "output_type": "stream",
     "text": [
      "File1 __name__ = __main__\n",
      "File1 is being run directly\n"
     ]
    }
   ],
   "source": [
    "# File1.py\n",
    "\n",
    "print (\"File1 __name__ = %s\" %__name__)\n",
    "\n",
    "if __name__ == \"__main__\":\n",
    "\tprint (\"File1 is being run directly\")\n",
    "else:\n",
    "\tprint (\"File1 is being imported\")\n"
   ]
  },
  {
   "cell_type": "code",
   "execution_count": 32,
   "metadata": {},
   "outputs": [
    {
     "ename": "ModuleNotFoundError",
     "evalue": "No module named 'File1'",
     "output_type": "error",
     "traceback": [
      "\u001b[1;31m---------------------------------------------------------------------------\u001b[0m",
      "\u001b[1;31mModuleNotFoundError\u001b[0m                       Traceback (most recent call last)",
      "\u001b[1;32m<ipython-input-32-bf605de23865>\u001b[0m in \u001b[0;36m<module>\u001b[1;34m\u001b[0m\n\u001b[0;32m      1\u001b[0m \u001b[1;31m# File2.py\u001b[0m\u001b[1;33m\u001b[0m\u001b[1;33m\u001b[0m\u001b[1;33m\u001b[0m\u001b[0m\n\u001b[0;32m      2\u001b[0m \u001b[1;33m\u001b[0m\u001b[0m\n\u001b[1;32m----> 3\u001b[1;33m \u001b[1;32mimport\u001b[0m \u001b[0mFile1\u001b[0m\u001b[1;33m\u001b[0m\u001b[1;33m\u001b[0m\u001b[0m\n\u001b[0m\u001b[0;32m      4\u001b[0m \u001b[1;33m\u001b[0m\u001b[0m\n\u001b[0;32m      5\u001b[0m \u001b[0mprint\u001b[0m \u001b[1;33m(\u001b[0m\u001b[1;34m\"File2 __name__ = %s\"\u001b[0m \u001b[1;33m%\u001b[0m\u001b[0m__name__\u001b[0m\u001b[1;33m)\u001b[0m\u001b[1;33m\u001b[0m\u001b[1;33m\u001b[0m\u001b[0m\n",
      "\u001b[1;31mModuleNotFoundError\u001b[0m: No module named 'File1'"
     ]
    }
   ],
   "source": [
    "# File2.py\n",
    "\n",
    "import File1\n",
    "\n",
    "print (\"File2 __name__ = %s\" %__name__)\n",
    "\n",
    "if __name__ == \"__main__\":\n",
    "\tprint (\"File2 is being run directly\")\n",
    "else:\n",
    "\tprint (\"File2 is being imported\")\n"
   ]
  },
  {
   "cell_type": "markdown",
   "metadata": {},
   "source": [
    "#### As seen above, when File1.py is run directly, the interpreter sets the __name__ variable as __main__ and when it is run through File2.py by importing, the __name__ variable is set as the name of the python script\n",
    "\n",
    "#### i.e. File1. Thus, it can be said that if __name__ == “__main__” is the part of the program that runs when the script is run from the command line using a command like python File1.py."
   ]
  }
 ],
 "metadata": {
  "kernelspec": {
   "display_name": "Python 3",
   "language": "python",
   "name": "python3"
  },
  "language_info": {
   "codemirror_mode": {
    "name": "ipython",
    "version": 3
   },
   "file_extension": ".py",
   "mimetype": "text/x-python",
   "name": "python",
   "nbconvert_exporter": "python",
   "pygments_lexer": "ipython3",
   "version": "3.8.5"
  }
 },
 "nbformat": 4,
 "nbformat_minor": 4
}
