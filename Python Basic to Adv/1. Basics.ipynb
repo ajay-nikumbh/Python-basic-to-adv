{
 "cells": [
  {
   "cell_type": "markdown",
   "metadata": {},
   "source": [
    "### <center>Basics</center>"
   ]
  },
  {
   "cell_type": "markdown",
   "metadata": {},
   "source": [
    "#### <center>1. https://www.geeksforgeeks.org/python-language-introduction/</center>\n",
    "#### 1. Python is a widely used general-purpose, high level programming language. \n",
    "#### 2. It was created by Guido van Rossum in 1991 and further developed by the Python Software Foundation.\n",
    "#### 3. It was designed with an emphasis on code readability, and its syntax allows programmers to express their concepts in fewer lines of code.\n",
    "\n",
    "#### 4. Python is a programming language that lets you work quickly and integrate systems more efficiently."
   ]
  },
  {
   "cell_type": "code",
   "execution_count": 1,
   "metadata": {},
   "outputs": [
    {
     "name": "stdout",
     "output_type": "stream",
     "text": [
      "GeeksQuiz\n"
     ]
    }
   ],
   "source": [
    "print(\"GeeksQuiz\")"
   ]
  },
  {
   "cell_type": "markdown",
   "metadata": {},
   "source": [
    "#### <center>2. https://www.geeksforgeeks.org/python-3-basics/</center>"
   ]
  },
  {
   "cell_type": "code",
   "execution_count": 2,
   "metadata": {},
   "outputs": [
    {
     "name": "stdout",
     "output_type": "stream",
     "text": [
      "Hello World\n"
     ]
    }
   ],
   "source": [
    "# Python code for \"Hello World\"\n",
    "# nothing else to type...see how simple is the syntax.\n",
    "\n",
    "print(\"Hello World\")\n"
   ]
  },
  {
   "cell_type": "markdown",
   "metadata": {},
   "source": [
    "#### <center>Variables and Data Structures</center>\n",
    "#### 1. In other programming languages like C, C++, and Java, you will need to declare the type of variables but in Python you don’t need to do that. \n",
    "#### 2. Just type in the variable and when values will be given to it, then it will automatically know whether the value given would be an int, float, or char or even a String."
   ]
  },
  {
   "cell_type": "code",
   "execution_count": 3,
   "metadata": {},
   "outputs": [
    {
     "name": "stdout",
     "output_type": "stream",
     "text": [
      "3\n",
      "4.5\n",
      "helloworld\n"
     ]
    }
   ],
   "source": [
    "# Python program to declare variables\n",
    "myNumber = 3\n",
    "print(myNumber)\n",
    "\n",
    "myNumber2 = 4.5\n",
    "print(myNumber2)\n",
    "\n",
    "myNumber =\"helloworld\"\n",
    "print(myNumber)\n"
   ]
  },
  {
   "cell_type": "markdown",
   "metadata": {},
   "source": [
    "#### <center>Input and Output</center>"
   ]
  },
  {
   "cell_type": "code",
   "execution_count": 4,
   "metadata": {},
   "outputs": [
    {
     "name": "stdout",
     "output_type": "stream",
     "text": [
      "Enter your name: Ajay\n",
      "hello Ajay\n"
     ]
    }
   ],
   "source": [
    "# Python program to illustrate\n",
    "# getting input from user\n",
    "name = input(\"Enter your name: \")\n",
    "\n",
    "# user entered the name 'harssh'\n",
    "print(\"hello\", name)\n"
   ]
  },
  {
   "cell_type": "code",
   "execution_count": 5,
   "metadata": {},
   "outputs": [
    {
     "name": "stdout",
     "output_type": "stream",
     "text": [
      "Enter num1: 1\n",
      "Enter num2: 2\n",
      "Product is:  2\n"
     ]
    }
   ],
   "source": [
    "# Python3 program to get input from user\n",
    "\n",
    "# accepting integer from the user\n",
    "# the return type of input() function is string ,\n",
    "# so we need to convert the input to integer\n",
    "num1 = int(input(\"Enter num1: \"))\n",
    "num2 = int(input(\"Enter num2: \"))\n",
    "\n",
    "num3 = num1 * num2\n",
    "print(\"Product is: \", num3)\n"
   ]
  },
  {
   "cell_type": "markdown",
   "metadata": {},
   "source": [
    "#### <center>3. https://www.geeksforgeeks.org/python-the-new-generation-language/</center>\n",
    "#### Python designed by Guido van Rossum at CWI has become a widely used general-purpose, high-level programming language.\n",
    "\n",
    "#### <center>Reason for increasing popularity</center>\n",
    "\n",
    "#### 1. Emphasis on code readability, shorter codes, ease of writing\n",
    "#### 2. Programmers can express logical concepts in fewer lines of code in comparison to languages such as C++ or Java.\n",
    "#### 3. Python supports multiple programming paradigms, like object-oriented, imperative and functional programming or procedural.\n",
    "#### 4. There exists inbuilt functions for almost all of the frequently used concepts. Philosophy is “Simplicity is the best”."
   ]
  },
  {
   "cell_type": "markdown",
   "metadata": {},
   "source": [
    "#### <center>LANGUAGE FEATURES</center>"
   ]
  },
  {
   "cell_type": "markdown",
   "metadata": {},
   "source": [
    "#### <center>1. Interpreted</center>\n",
    "#### 1. There are no separate compilation and execution steps like C and C++.\n",
    "#### 2. Directly run the program from the source code.\n",
    "#### 3. Internally, Python converts the source code into an intermediate form called bytecodes which is then translated into native language of specific computer to run it.\n",
    "#### 4. No need to worry about linking and loading with libraries, etc.\n",
    "\n",
    "#### <center>2. Platform Independent</center>\n",
    "#### 1. Python programs can be developed and executed on multiple operating system platforms.\n",
    "#### 2. Python can be used on Linux, Windows, Macintosh, Solaris and many more.\n",
    "#### 3. Free and Open Source; Redistributable\n",
    "\n",
    "#### <center>3. High-level Language</center>\n",
    "#### In Python, no need to take care about low-level details such as managing the memory used by the program.\n",
    "\n",
    "#### <center>4. Simple</center>\n",
    "#### Closer to English language;Easy to Learn\n",
    "#### More emphasis on the solution to the problem rather than the syntax\n",
    "\n",
    "#### <center>5. Embeddable</center>\n",
    "#### Python can be used within C/C++ program to give scripting capabilities for the program’s users.\n",
    "\n",
    "#### <center>6. Robust</center>\n",
    "#### Exceptional handling features\n",
    "#### Memory management techniques in built\n",
    "\n",
    "#### <center>7. Rich library Support</center>\n",
    "#### The Python Standard Library is vary vast.\n",
    "#### Known as the “batteries included” philosophy of Python \n",
    "#### It can help do various things involving regular expressions, documentation generation, unit testing, threading, databases, web browsers, CGI, email, XML, HTML, WAV files, cryptography, GUI and many more.\n",
    "#### Besides the standard library, there are various other high-quality libraries such as the Python Imaging Library which is an amazingly simple image manipulation library."
   ]
  },
  {
   "cell_type": "markdown",
   "metadata": {},
   "source": [
    "#### <center>4. https://www.geeksforgeeks.org/keywords-python-set-1/</center>"
   ]
  },
  {
   "cell_type": "markdown",
   "metadata": {},
   "source": [
    "#### <center>Keywords in Python – Set 1</center>"
   ]
  },
  {
   "cell_type": "markdown",
   "metadata": {},
   "source": [
    "#### 1. True : This keyword is used to represent a boolean true. If a statement is true, “True” is printed.\n",
    "\n",
    "#### 2. False : This keyword is used to represent a boolean false. If a statement is false, “False” is printed.\n",
    "#### True and False in python are same as 1 and 0. "
   ]
  },
  {
   "cell_type": "code",
   "execution_count": 1,
   "metadata": {},
   "outputs": [
    {
     "name": "stdout",
     "output_type": "stream",
     "text": [
      "True\n",
      "True\n",
      "3\n",
      "1\n"
     ]
    }
   ],
   "source": [
    "print (False == 0)\n",
    "print (True == 1)\n",
    "\n",
    "print (True + True + True)\n",
    "print (True + False + False)\n"
   ]
  },
  {
   "cell_type": "markdown",
   "metadata": {},
   "source": [
    "#### 3. None : This is a special constant used to denote a null value or a void. Its important to remember, 0, any empty container(e.g empty list) do not compute to None.\n",
    "#### It is an object of its datatype – NoneType. It is not possible to create multiple None objects and can assign them to variables.\n",
    "\n",
    "\n",
    "\n",
    "#### 4. and : This a logical operator in python. “and” Return the first false value .if not found return last. The truth table for “and” is depicted below.\n",
    "\n",
    "#### 5. or : This a logical operator in python. “or” Return the first True value.if not found return last.\n",
    "#### 6. not : This logical operator inverts the truth value. "
   ]
  },
  {
   "cell_type": "code",
   "execution_count": 2,
   "metadata": {},
   "outputs": [
    {
     "name": "stdout",
     "output_type": "stream",
     "text": [
      "False\n",
      "True\n",
      "True\n",
      "False\n",
      "False\n"
     ]
    }
   ],
   "source": [
    "# Python code to demonstrate\n",
    "# True, False, None, and, or , not\n",
    "\n",
    "# showing that None is not equal to 0\n",
    "# prints False as its false.\n",
    "print (None == 0)\n",
    "\n",
    "# showing objective of None\n",
    "# two None value equated to None\n",
    "# here x and y both are null\n",
    "# hence true\n",
    "x = None\n",
    "y = None\n",
    "print (x == y)\n",
    "\n",
    "# showing logical operation\n",
    "# or (returns True)\n",
    "print (True or False)\n",
    "\n",
    "# showing logical operation\n",
    "# and (returns False)\n",
    "print (False and True)\n",
    "\n",
    "# showing logical operation\n",
    "# not (returns False)\n",
    "print (not True)\n"
   ]
  },
  {
   "cell_type": "markdown",
   "metadata": {},
   "source": [
    "#### 7. assert : This function is used for debugging purposes. Usually used to check the correctness of code.\n",
    "#### If a statement evaluated to true, nothing happens, but when it is false, “AssertionError” is raised #### One can also print a message with the error, separated by a comma.\n",
    "\n",
    "#### 8. break : “break” is used to control the flow of the loop. The statement is used to break out of the loop and passes the control to the statement following immediately after loop.\n",
    "\n",
    "#### 9. continue : “continue” is also used to control the flow of code. The keyword skips the current iteration of the loop, but does not end the loop."
   ]
  },
  {
   "cell_type": "markdown",
   "metadata": {},
   "source": [
    "#### 10. class : This keyword is used to declare user defined classes.\n",
    "\n",
    "\n",
    "\n",
    "#### 11. def : This keyword is used to declare user defined functions.\n",
    "#### 12. if : It is a control statement for decision making. Truth expression forces control to go in “if” statement block.\n",
    "\n",
    "#### 13. else : It is a control statement for decision making. False expression forces control to go in “else” statement block.\n",
    "\n",
    "#### 14. elif : It is a control statement for decision making. It is short for “else if”\n",
    "\n",
    "#### if, else and elif conditional statements are explained in detail here article.\n",
    "\n",
    "#### 15. del : del is used to delete a reference to an object. Any variable or list value can be deleted using del."
   ]
  },
  {
   "cell_type": "code",
   "execution_count": 3,
   "metadata": {},
   "outputs": [
    {
     "name": "stdout",
     "output_type": "stream",
     "text": [
      "The list before deleting any value\n",
      "[1, 2, 3]\n",
      "The list after deleting 2nd element\n",
      "[1, 3]\n"
     ]
    },
    {
     "ename": "AssertionError",
     "evalue": "5 is not smaller than 3",
     "output_type": "error",
     "traceback": [
      "\u001b[1;31m---------------------------------------------------------------------------\u001b[0m",
      "\u001b[1;31mAssertionError\u001b[0m                            Traceback (most recent call last)",
      "\u001b[1;32m<ipython-input-3-fb07db172cda>\u001b[0m in \u001b[0;36m<module>\u001b[1;34m\u001b[0m\n\u001b[0;32m     18\u001b[0m \u001b[1;31m# demonstrating use of assert\u001b[0m\u001b[1;33m\u001b[0m\u001b[1;33m\u001b[0m\u001b[1;33m\u001b[0m\u001b[0m\n\u001b[0;32m     19\u001b[0m \u001b[1;31m# prints AssertionError\u001b[0m\u001b[1;33m\u001b[0m\u001b[1;33m\u001b[0m\u001b[1;33m\u001b[0m\u001b[0m\n\u001b[1;32m---> 20\u001b[1;33m \u001b[1;32massert\u001b[0m \u001b[1;36m5\u001b[0m \u001b[1;33m<\u001b[0m \u001b[1;36m3\u001b[0m\u001b[1;33m,\u001b[0m \u001b[1;34m\"5 is not smaller than 3\"\u001b[0m\u001b[1;33m\u001b[0m\u001b[1;33m\u001b[0m\u001b[0m\n\u001b[0m",
      "\u001b[1;31mAssertionError\u001b[0m: 5 is not smaller than 3"
     ]
    }
   ],
   "source": [
    "# Python code to demonstrate\n",
    "# del and assert\n",
    "\n",
    "# initialising list\n",
    "a = [1, 2, 3]\n",
    "\n",
    "# printing list before deleting any value\n",
    "print (\"The list before deleting any value\")\n",
    "print (a)\n",
    "\n",
    "# using del to delete 2nd element of list\n",
    "del a[1]\n",
    "\n",
    "# printing list after deleting 2nd element\n",
    "print (\"The list after deleting 2nd element\")\n",
    "print (a)\n",
    "\n",
    "# demonstrating use of assert\n",
    "# prints AssertionError\n",
    "assert 5 < 3, \"5 is not smaller than 3\"\n"
   ]
  },
  {
   "cell_type": "markdown",
   "metadata": {},
   "source": [
    "#### <center>More keywords</center>\n",
    "#### 16. try : This keyword is used for exception handling, used to catch the errors in the code using the keyword except. Code in “try” block is checked, if there is any type of error, except block is executed.\n",
    "\n",
    "#### 17. except : As explained above, this works together with “try” to catch exceptions.\n",
    "\n",
    "#### 18. raise : Also used for exception handling to explicitly raise exceptions.\n",
    "\n",
    "#### 19. finally : No matter what is result of the “try” block, block termed “finally” is always executed. Detailed article –Exception Handling in Python\n",
    "\n",
    "#### 20. for : This keyword is used to control flow and for looping.\n",
    "\n",
    "#### 21. while : Has a similar working like “for” , used to control flow and for looping.\n",
    "\n",
    "#### 22. pass : It is the null statement in python. Nothing happens when this is encountered. This is used to prevent indentation errors and used as a placeholder\n",
    "\n",
    "\n",
    "#### 23. import : This statement is used to include a particular module into current program.\n",
    "\n",
    "#### 24. from : Generally used with import, from is used to import particular functionality from the module imported.\n",
    "\n",
    "#### 25. as : This keyword is used to create the alias for the module imported. i.e giving a new name to the imported module. E.g import math as mymath.\n",
    "\n",
    "\n",
    "#### 26. lambda : This keyword is used to make inline returning functions with no statements allowed internally. Detailed Article – map, filter, lambda\n",
    "\n",
    "#### 27. return : This keyword is used to return from the function. Detailed article –  Return values in Python.\n",
    "\n",
    "#### 28. yield : This keyword is used like return statement but is used to return a generator. \n",
    "\n",
    "#### 29. with : This keyword is used to wrap the execution of block of code within methods defined by context manager.This keyword is not used much in day to day programming.\n",
    "\n",
    "#### 30. in : This keyword is used to check if a container contains a value. This keyword is also used to loop through the container.\n",
    "\n",
    "#### 31. is : This keyword is used to test object identity, i.e to check if both the objects take same memory location or not. "
   ]
  },
  {
   "cell_type": "code",
   "execution_count": 4,
   "metadata": {},
   "outputs": [
    {
     "name": "stdout",
     "output_type": "stream",
     "text": [
      "s is part of geeksforgeeks\n",
      "g e e k s f o r g e e k s \r\n",
      "True\n",
      "False\n"
     ]
    },
    {
     "name": "stderr",
     "output_type": "stream",
     "text": [
      "<>:18: SyntaxWarning: \"is\" with a literal. Did you mean \"==\"?\n",
      "<>:18: SyntaxWarning: \"is\" with a literal. Did you mean \"==\"?\n",
      "<ipython-input-4-6f5c54915a41>:18: SyntaxWarning: \"is\" with a literal. Did you mean \"==\"?\n",
      "  print (' ' is ' ')\n"
     ]
    }
   ],
   "source": [
    "# Python code to demonstrate working of\n",
    "# in and is\n",
    "\n",
    "# using \"in\" to check\n",
    "if 's' in 'geeksforgeeks':\n",
    "    print (\"s is part of geeksforgeeks\")\n",
    "else : print (\"s is not part of geeksforgeeks\")\n",
    "\n",
    "# using \"in\" to loop through\n",
    "for i in 'geeksforgeeks':\n",
    "    print (i,end=\" \")\n",
    "\n",
    "print (\"\\r\")\n",
    "    \n",
    "# using is to check object identity\n",
    "# string is immutable( cannot be changed once allocated)\n",
    "# hence occupy same memory location\n",
    "print (' ' is ' ')\n",
    "\n",
    "# using is to check object identity\n",
    "# dictionary is mutable( can be changed once allocated)\n",
    "# hence occupy different memory location\n",
    "print ({} is {})\n"
   ]
  },
  {
   "cell_type": "markdown",
   "metadata": {},
   "source": [
    "#### 32. global : This keyword is used to define a variable inside the function to be of a global scope.\n",
    "\n",
    "#### 33. non-local : This keyword works similar to the global, but rather than global, this keyword declares a variable to point to variable of outside enclosing function, in case of nested functions."
   ]
  },
  {
   "cell_type": "code",
   "execution_count": 5,
   "metadata": {},
   "outputs": [
    {
     "name": "stdout",
     "output_type": "stream",
     "text": [
      "10\n",
      "5\n",
      "5\n",
      "Value of a using nonlocal is : 10\n",
      "Value of a without using nonlocal is : 5\n"
     ]
    }
   ],
   "source": [
    "# Python code to demonstrate working of\n",
    "# global and non local\n",
    "\n",
    "#initializing variable globally\n",
    "a = 10\n",
    "\n",
    "# used to read the variable\n",
    "def read():\n",
    "\tprint (a)\n",
    "\n",
    "# changing the value of globally defined variable\n",
    "def mod1():\n",
    "\tglobal a\n",
    "\ta = 5\n",
    "\n",
    "# changing value of only local variable\n",
    "def mod2():\n",
    "\ta = 15\n",
    "\n",
    "# reading initial value of a\n",
    "# prints 10\n",
    "read()\n",
    "\n",
    "# calling mod 1 function to modify value\n",
    "# modifies value of global a to 5\n",
    "mod1()\n",
    "\n",
    "# reading modified value\n",
    "# prints 5\n",
    "read()\n",
    "\n",
    "# calling mod 2 function to modify value\n",
    "# modifies value of local a to 15, doesn't effect global value\n",
    "mod2()\n",
    "\n",
    "# reading modified value\n",
    "# again prints 5\n",
    "read()\n",
    "\n",
    "# demonstrating non local\n",
    "# inner loop changing the value of outer a\n",
    "# prints 10\n",
    "print (\"Value of a using nonlocal is : \",end=\"\")\n",
    "def outer():\n",
    "\ta = 5\n",
    "\tdef inner():\n",
    "\t\tnonlocal a\n",
    "\t\ta = 10\n",
    "\tinner()\n",
    "\tprint (a)\n",
    "\n",
    "outer()\n",
    "\n",
    "# demonstrating without non local\n",
    "# inner loop not changing the value of outer a\n",
    "# prints 5\n",
    "print (\"Value of a without using nonlocal is : \",end=\"\")\n",
    "def outer():\n",
    "    a = 5\n",
    "    def inner():\n",
    "        a = 10\n",
    "    inner()\n",
    "    print (a)\n",
    "\n",
    "outer()\n"
   ]
  },
  {
   "cell_type": "markdown",
   "metadata": {},
   "source": [
    "#### <center>5. https://www.geeksforgeeks.org/namespaces-and-scope-in-python/</center>"
   ]
  },
  {
   "cell_type": "markdown",
   "metadata": {},
   "source": [
    "#### <center>What is namespace</center>\n",
    "#### A namespace is a system that has a unique name for each and every object in Python. \n",
    "#### An object might be a variable or a method. \n",
    "#### Python itself maintains a namespace in the form of a Python dictionary.\n",
    "#### Let’s go through an example, a directory-file system structure in computers. \n",
    "#### Needless to say, that one can have multiple directories having a file with the same name inside every directory. \n",
    "#### But one can get directed to the file, one wishes, just by specifying the absolute path to the file.\n",
    "#### Real-time example, the role of a namespace is like a surname. One might not find a single “Alice” in the class there might be multiple “Alice” but when you particularly ask for “Alice Lee” or “Alice Clark” (with a surname), there will be only one (time being don’t think of both first name and surname are same for multiple students).\n",
    "#### On similar lines, the Python interpreter understands what exact method or variable one is trying to point to in the code, depending upon the namespace. \n",
    "#### So, the division of the word itself gives a little more information. \n",
    "#### Its Name (which means name, a unique identifier) + Space(which talks something related to scope).\n",
    "#### Here, a name might be of any Python method or variable and space depends upon the location from where is trying to access a variable or a method."
   ]
  },
  {
   "cell_type": "markdown",
   "metadata": {},
   "source": [
    "#### <center>Types of namespaces</center>\n",
    " \n",
    "#### When Python interpreter runs solely without any user-defined modules, methods, classes, etc. Some functions like print(), id() are always present, these are built-in namespaces. \n",
    "#### When a user creates a module, a global namespace gets created, later the creation of local functions creates the local namespace. \n",
    "#### The built-in namespace encompasses the global namespace and the global namespace encompasses the local namespace.\n",
    "\n",
    "\n",
    "#### <center>The lifetime of a namespace</center>\n",
    " \n",
    "#### A lifetime of a namespace depends upon the scope of objects, if the scope of an object ends, the lifetime of that namespace comes to an end. \n",
    "#### Hence, it is not possible to access the inner namespace’s objects from an outer namespace."
   ]
  },
  {
   "cell_type": "code",
   "execution_count": 6,
   "metadata": {},
   "outputs": [],
   "source": [
    "# var1 is in the global namespace\n",
    "var1 = 5\n",
    "def some_func():\n",
    "\n",
    "    # var2 is in the local namespace\n",
    "    var2 = 6\n",
    "    def some_inner_func():\n",
    "        # var3 is in the nested local\n",
    "        # namespace\n",
    "        var3 = 7\n"
   ]
  },
  {
   "cell_type": "markdown",
   "metadata": {},
   "source": [
    "#### But in some cases, one might be interested in updating or processing global variables only, as shown in the following example, one should mark it explicitly as global and the update or process.   \n",
    "\n",
    "#### Note that the line “count = count +1” references the global variable and therefore uses the global variable, but compare this to the same line written “count = 1”. \n",
    "\n",
    "#### Then the line “global count” is absolutely needed according to scope rules.\n",
    "\n"
   ]
  },
  {
   "cell_type": "code",
   "execution_count": 8,
   "metadata": {},
   "outputs": [
    {
     "name": "stdout",
     "output_type": "stream",
     "text": [
      "6\n"
     ]
    }
   ],
   "source": [
    "# Python program processing\n",
    "# global variable\n",
    "\n",
    "count = 5\n",
    "def some_method():\n",
    "    global count\n",
    "    count = count + 1\n",
    "    print(count)\n",
    "some_method()\n"
   ]
  },
  {
   "cell_type": "markdown",
   "metadata": {},
   "source": [
    "#### <center>Scope of Objects in Python</center>\n",
    " \n",
    "#### Scope refers to the coding region from which a particular Python object is accessible. Hence one cannot access any particular object from anywhere from the code, the accessing has to be allowed by the scope of the object.\n",
    "#### Let’s take an example to have a detailed understanding of the same: "
   ]
  },
  {
   "cell_type": "code",
   "execution_count": 9,
   "metadata": {},
   "outputs": [
    {
     "name": "stdout",
     "output_type": "stream",
     "text": [
      "Inside some_func\n",
      "Inside inner function, value of var: 10\n"
     ]
    },
    {
     "ename": "NameError",
     "evalue": "name 'var' is not defined",
     "output_type": "error",
     "traceback": [
      "\u001b[1;31m---------------------------------------------------------------------------\u001b[0m",
      "\u001b[1;31mNameError\u001b[0m                                 Traceback (most recent call last)",
      "\u001b[1;32m<ipython-input-9-d8015e3032b4>\u001b[0m in \u001b[0;36m<module>\u001b[1;34m\u001b[0m\n\u001b[0;32m      9\u001b[0m     \u001b[0msome_inner_func\u001b[0m\u001b[1;33m(\u001b[0m\u001b[1;33m)\u001b[0m\u001b[1;33m\u001b[0m\u001b[1;33m\u001b[0m\u001b[0m\n\u001b[0;32m     10\u001b[0m     \u001b[0mprint\u001b[0m\u001b[1;33m(\u001b[0m\u001b[1;34m\"Try printing var from outer function: \"\u001b[0m\u001b[1;33m,\u001b[0m\u001b[0mvar\u001b[0m\u001b[1;33m)\u001b[0m\u001b[1;33m\u001b[0m\u001b[1;33m\u001b[0m\u001b[0m\n\u001b[1;32m---> 11\u001b[1;33m \u001b[0msome_func\u001b[0m\u001b[1;33m(\u001b[0m\u001b[1;33m)\u001b[0m\u001b[1;33m\u001b[0m\u001b[1;33m\u001b[0m\u001b[0m\n\u001b[0m",
      "\u001b[1;32m<ipython-input-9-d8015e3032b4>\u001b[0m in \u001b[0;36msome_func\u001b[1;34m()\u001b[0m\n\u001b[0;32m      8\u001b[0m         \u001b[0mprint\u001b[0m\u001b[1;33m(\u001b[0m\u001b[1;34m\"Inside inner function, value of var:\"\u001b[0m\u001b[1;33m,\u001b[0m\u001b[0mvar\u001b[0m\u001b[1;33m)\u001b[0m\u001b[1;33m\u001b[0m\u001b[1;33m\u001b[0m\u001b[0m\n\u001b[0;32m      9\u001b[0m     \u001b[0msome_inner_func\u001b[0m\u001b[1;33m(\u001b[0m\u001b[1;33m)\u001b[0m\u001b[1;33m\u001b[0m\u001b[1;33m\u001b[0m\u001b[0m\n\u001b[1;32m---> 10\u001b[1;33m     \u001b[0mprint\u001b[0m\u001b[1;33m(\u001b[0m\u001b[1;34m\"Try printing var from outer function: \"\u001b[0m\u001b[1;33m,\u001b[0m\u001b[0mvar\u001b[0m\u001b[1;33m)\u001b[0m\u001b[1;33m\u001b[0m\u001b[1;33m\u001b[0m\u001b[0m\n\u001b[0m\u001b[0;32m     11\u001b[0m \u001b[0msome_func\u001b[0m\u001b[1;33m(\u001b[0m\u001b[1;33m)\u001b[0m\u001b[1;33m\u001b[0m\u001b[1;33m\u001b[0m\u001b[0m\n",
      "\u001b[1;31mNameError\u001b[0m: name 'var' is not defined"
     ]
    }
   ],
   "source": [
    "# Python program showing\n",
    "# a scope of object\n",
    "\n",
    "def some_func():\n",
    "    print(\"Inside some_func\")\n",
    "    def some_inner_func():\n",
    "        var = 10\n",
    "        print(\"Inside inner function, value of var:\",var)\n",
    "    some_inner_func()\n",
    "    print(\"Try printing var from outer function: \",var)\n",
    "some_func()\n"
   ]
  },
  {
   "cell_type": "markdown",
   "metadata": {},
   "source": [
    "#### <center>6. https://www.geeksforgeeks.org/statement-indentation-and-comment-in-python/</center>"
   ]
  },
  {
   "cell_type": "markdown",
   "metadata": {},
   "source": [
    "#### <center>Statements</center>\n",
    "#### Instructions written in the source code for execution are called statements.\n",
    "#### There are different types of statements in the Python programming language like Assignment statement, Conditional statement, Looping statements etc.\n",
    "#### These all help the user to get the required output. For example, n = 50 is an assignment statement.\n",
    "\n",
    "#### <center>Multi-Line Statements</center>\n",
    "#### Statements in Python can be extended to one or more lines using parentheses (), braces {}, square brackets [], semi-colon (;), continuation character slash (\\). \n",
    "#### When the programmer needs to do long calculations and cannot fit his statements into one line, one can make use of these characters."
   ]
  },
  {
   "cell_type": "markdown",
   "metadata": {},
   "source": [
    "#### <center>Indentation</center>\n",
    "#### A block is a combination of all these statements. Block can be regarded as the grouping of statements for a specific purpose. \n",
    "#### Most of the programming languages like C, C++, Java use braces { } to define a block of code. \n",
    "#### One of the distinctive features of Python is its use of indentation to highlight the blocks of code. Whitespace is used for indentation in Python. \n",
    "\n",
    "#### All statements with the same distance to the right belong to the same block of code. If a block has to be more deeply nested, it is simply indented further to the right. \n",
    "#### You can understand it better by looking at the following lines of code:"
   ]
  },
  {
   "cell_type": "code",
   "execution_count": 11,
   "metadata": {},
   "outputs": [
    {
     "name": "stdout",
     "output_type": "stream",
     "text": [
      "Logging on to geeksforgeeks...\n",
      "All set !\n"
     ]
    }
   ],
   "source": [
    "# Python program showing\n",
    "# indentation\n",
    "\n",
    "site = 'gfg'\n",
    "\n",
    "if site == 'gfg':\n",
    "    print('Logging on to geeksforgeeks...')\n",
    "else:\n",
    "    print('retype the URL.')\n",
    "\n",
    "print('All set !')\n"
   ]
  },
  {
   "cell_type": "code",
   "execution_count": 12,
   "metadata": {},
   "outputs": [
    {
     "name": "stdout",
     "output_type": "stream",
     "text": [
      "1\n",
      "2\n",
      "3\n",
      "4\n",
      "5\n"
     ]
    }
   ],
   "source": [
    "j = 1\n",
    "while(j<= 5):\n",
    "    print(j)\n",
    "    j = j + 1\n"
   ]
  },
  {
   "cell_type": "markdown",
   "metadata": {},
   "source": [
    "#### <center>Comments</center>\n",
    "#### Python developers often make use of the comment system as, without the use of it, things can get real confusing, real fast. \n",
    "\n",
    "#### Comments are the useful information that the developers provide to make the reader understand the source code. It explains the logic or a part of it used in the code.\n",
    "#### Comments are usually helpful to someone maintaining or enhancing your code when you are no longer around to answer questions about it. \n",
    "\n",
    "#### These are often cited as a useful programming convention that does not take part in the output of the program but improves the readability of the whole program. \n",
    "\n",
    "#### <center>There are two types of comment in Python</center>\n"
   ]
  },
  {
   "cell_type": "markdown",
   "metadata": {},
   "source": [
    "#### <center>Single line comments </center>\n",
    "\n",
    "#### Python single line comment starts with hashtag symbol with no white spaces (#) and lasts till the end of the line. \n",
    "#### If the comment exceeds one line then put a hashtag on the next line and continue the comment. Python’s single line comments are proved useful for supplying short explanations for variables, function declarations, and expressions.\n",
    "#### See the following code snippet demonstrating single line comment:"
   ]
  },
  {
   "cell_type": "code",
   "execution_count": 13,
   "metadata": {},
   "outputs": [
    {
     "name": "stdout",
     "output_type": "stream",
     "text": [
      "GeeksforGeeks\n"
     ]
    }
   ],
   "source": [
    "# This is a comment\n",
    "# Print “GeeksforGeeks !” to console\n",
    "print(\"GeeksforGeeks\")\n"
   ]
  },
  {
   "cell_type": "code",
   "execution_count": 14,
   "metadata": {},
   "outputs": [
    {
     "name": "stdout",
     "output_type": "stream",
     "text": [
      "4\n"
     ]
    }
   ],
   "source": [
    "a, b = 1, 3 # Declaring two integers\n",
    "sum = a + b # adding two integers\n",
    "print(sum) # displaying the output\n"
   ]
  },
  {
   "cell_type": "markdown",
   "metadata": {},
   "source": [
    "#### <center>Multi-line string as comment</center>\n",
    "#### Python multi-line comment is a piece of text enclosed in a delimiter (\"\"\") on each end of the comment. Again there should be no white space between delimiter (\"\"\"). \n",
    "#### They are useful when the comment text does not fit into one line; therefore needs to span across lines.\n",
    "#### Multi-line comments or paragraphs serve as documentation for others reading your code. See the following code snippet demonstrating multi-line comment:"
   ]
  },
  {
   "cell_type": "code",
   "execution_count": 15,
   "metadata": {},
   "outputs": [
    {
     "name": "stdout",
     "output_type": "stream",
     "text": [
      "GeeksForGeeks\n"
     ]
    }
   ],
   "source": [
    "\"\"\"\n",
    "This would be a multiline comment in Python that\n",
    "spans several lines and describes geeksforgeeks.\n",
    "A Computer Science portal for geeks. It contains\n",
    "well written, well thought\n",
    "and well-explained computer science\n",
    "and programming articles,\n",
    "quizzes and more.\n",
    "…\n",
    "\"\"\"\n",
    "print(\"GeeksForGeeks\")\n"
   ]
  },
  {
   "cell_type": "code",
   "execution_count": 16,
   "metadata": {},
   "outputs": [
    {
     "name": "stdout",
     "output_type": "stream",
     "text": [
      "GeeksForGeeks\n"
     ]
    }
   ],
   "source": [
    "'''This article on geeksforgeeks gives you a\n",
    "perfect example of\n",
    "multi-line comments'''\n",
    "\n",
    "print(\"GeeksForGeeks\")\n"
   ]
  },
  {
   "cell_type": "markdown",
   "metadata": {},
   "source": [
    "#### <center>Structuring Python Programs</center>"
   ]
  },
  {
   "cell_type": "markdown",
   "metadata": {},
   "source": [
    "#### In this article, you would come to know about proper structuring and formatting your python programs.\n",
    "\n",
    "#### Python Statements In general, the interpreter reads and executes the statements line by line i.e sequentially. Though, there are some statements that can alter this behavior like conditional statements.\n",
    "         \n",
    "#### Mostly, python statements are written in such a format that one statement is only written in a single line. The interpreter considers the ‘new line character’ as the terminator of one instruction.\n",
    "#### But, writing multiple statements per line is also possible that you can find below.\n",
    "#### Examples:"
   ]
  },
  {
   "cell_type": "code",
   "execution_count": 17,
   "metadata": {},
   "outputs": [
    {
     "name": "stdout",
     "output_type": "stream",
     "text": [
      "Welcome to Geeks for Geeks\n"
     ]
    }
   ],
   "source": [
    "# Example 1\n",
    "\n",
    "print('Welcome to Geeks for Geeks')\n"
   ]
  },
  {
   "cell_type": "code",
   "execution_count": 19,
   "metadata": {},
   "outputs": [
    {
     "name": "stdout",
     "output_type": "stream",
     "text": [
      "[2, 3]\n"
     ]
    }
   ],
   "source": [
    "# Example 2\n",
    "\n",
    "x = [1, 2, 3, 4]\n",
    "\n",
    "# x[1:3] means that start from the index\n",
    "# 1 and go upto the index 2\n",
    "print(x[1:3])\n",
    "\n"
   ]
  },
  {
   "cell_type": "markdown",
   "metadata": {},
   "source": [
    "#### Multiple Statements per Line We can also write multiple statements per line, but it is not a good practice as it reduces the readability of the code.\n",
    "#### Try to avoid writing multiple statements in a single line. \n",
    "#### But, still you can write multiple lines by terminating one statement with the help of ‘;’. ‘;’ is used as the terminator of one statement in this case.\n",
    "     "
   ]
  },
  {
   "cell_type": "code",
   "execution_count": 20,
   "metadata": {},
   "outputs": [
    {
     "name": "stdout",
     "output_type": "stream",
     "text": [
      "10\n",
      "20\n",
      "30\n"
     ]
    }
   ],
   "source": [
    "# Example\n",
    "\n",
    "a = 10; b = 20; c = b + a\n",
    "\n",
    "print(a); print(b); print(c)\n"
   ]
  },
  {
   "cell_type": "code",
   "execution_count": 21,
   "metadata": {},
   "outputs": [
    {
     "name": "stdout",
     "output_type": "stream",
     "text": [
      "[[1, 2, 3], [3, 4, 5], [5, 6, 7]]\n"
     ]
    }
   ],
   "source": [
    "# Example 1\n",
    "\n",
    "# The following code is valid\n",
    "a = [\n",
    "        [1, 2, 3],\n",
    "        [3, 4, 5],\n",
    "        [5, 6, 7]\n",
    "    ]\n",
    "\n",
    "print(a)\n"
   ]
  },
  {
   "cell_type": "code",
   "execution_count": 24,
   "metadata": {},
   "outputs": [
    {
     "name": "stdout",
     "output_type": "stream",
     "text": [
      "2 Persons should have ID Cards\n"
     ]
    }
   ],
   "source": [
    "# Example 2\n",
    "# The following code is also valid\n",
    "\n",
    "person_1 = 18\n",
    "person_2 = 20\n",
    "person_3 = 12\n",
    "\n",
    "if (\n",
    "person_1 >= 18 and\n",
    "person_2 >= 18 and\n",
    "person_3 < 18\n",
    "):\n",
    "    \n",
    "    print('2 Persons should have ID Cards')\n"
   ]
  },
  {
   "cell_type": "markdown",
   "metadata": {},
   "source": [
    "#### <center>Explicit Line Continuation</center>\n",
    "#### Explicit Line joining is used mostly when implicit line joining is not applicable.\n",
    "#### In this method, you have to use a character that helps the interpreter to understand that the particular statement is spanning more than one lines.\n",
    "    \n",
    "#### Backslash (\\) is used to indicate that a statement spans more than one line. The point is to be noted that ” must be the last character in that line, even white-space is not allowed."
   ]
  },
  {
   "cell_type": "code",
   "execution_count": 26,
   "metadata": {},
   "outputs": [
    {
     "name": "stdout",
     "output_type": "stream",
     "text": [
      "24\n"
     ]
    }
   ],
   "source": [
    "# Example\n",
    "\n",
    "x = \\\n",
    "    1 + 2 \\\n",
    "    + 5 + 6 \\\n",
    "    + 10\n",
    "\n",
    "print(x)\n"
   ]
  },
  {
   "cell_type": "markdown",
   "metadata": {},
   "source": [
    "#### <center>7. https://www.geeksforgeeks.org/check-string-valid-keyword-python/</center>"
   ]
  },
  {
   "cell_type": "markdown",
   "metadata": {},
   "source": [
    "#### <center>Defining a Keyword</center>\n",
    "\n",
    "#### In programming, a keyword is a “reserved word” by the language which convey a special meaning to the interpreter. \n",
    "#### It may be a command or a parameter. Keywords cannot be used as a variable name in the program snippet.\n",
    "\n",
    "#### Keywords in Python:  Python language also reserves some of keywords that convey special meaning. Knowledge of these is necessary part of learning this language.\n",
    "#### Below is list of keywords registered by python ."
   ]
  },
  {
   "cell_type": "code",
   "execution_count": 27,
   "metadata": {},
   "outputs": [
    {
     "name": "stdout",
     "output_type": "stream",
     "text": [
      "for is python keyword\n",
      "while is python keyword\n",
      "tanisha is not a python keyword\n",
      "break is python keyword\n",
      "sky is not a python keyword\n",
      "elif is python keyword\n",
      "assert is python keyword\n",
      "pulkit is not a python keyword\n",
      "lambda is python keyword\n",
      "else is python keyword\n",
      "sakshar is not a python keyword\n"
     ]
    }
   ],
   "source": [
    "#Instead of writing this massive Python code\n",
    "#we can also code this in a different way\n",
    "\n",
    "#Python code to demonstrate working of iskeyword()\n",
    "\n",
    "# importing \"keyword\" for keyword operations\n",
    "import keyword\n",
    "import keyword\n",
    "# initializing strings for testing while putting them in an array\n",
    "keys = [\"for\", \"while\", \"tanisha\", \"break\", \"sky\",\n",
    "\"elif\", \"assert\", \"pulkit\", \"lambda\", \"else\", \"sakshar\"]\n",
    "\n",
    "for i in range(len(keys)):\n",
    "    # checking which are keywords\n",
    "    if keyword.iskeyword(keys[i]):\n",
    "        print(keys[i] + \" is python keyword\")\n",
    "    else:\n",
    "        print(keys[i] + \" is not a python keyword\")\n"
   ]
  },
  {
   "cell_type": "markdown",
   "metadata": {},
   "source": [
    "#### <center>How to print list of all keywords</center>\n",
    "\n",
    "#### Sometimes, remembering all the keywords can be a difficult task while assigning variable names.\n",
    "#### Hence a function “kwlist()” is provided in “keyword” module which prints all the 33 python keywords."
   ]
  },
  {
   "cell_type": "code",
   "execution_count": 28,
   "metadata": {},
   "outputs": [
    {
     "name": "stdout",
     "output_type": "stream",
     "text": [
      "The list of keywords is : \n",
      "['False', 'None', 'True', 'and', 'as', 'assert', 'async', 'await', 'break', 'class', 'continue', 'def', 'del', 'elif', 'else', 'except', 'finally', 'for', 'from', 'global', 'if', 'import', 'in', 'is', 'lambda', 'nonlocal', 'not', 'or', 'pass', 'raise', 'return', 'try', 'while', 'with', 'yield']\n"
     ]
    }
   ],
   "source": [
    "#Python code to demonstrate working of iskeyword()\n",
    "\n",
    "# importing \"keyword\" for keyword operations\n",
    "import keyword\n",
    "\n",
    "# printing all keywords at once using \"kwlist()\"\n",
    "print (\"The list of keywords is : \")\n",
    "print (keyword.kwlist)\n"
   ]
  },
  {
   "cell_type": "markdown",
   "metadata": {},
   "source": [
    "#### <center>8. https://www.geeksforgeeks.org/how-to-assign-values-to-variables-in-python-and-other-languages/</center>"
   ]
  },
  {
   "cell_type": "markdown",
   "metadata": {},
   "source": [
    "#### Method 1: Direct Initialisation Method "
   ]
  },
  {
   "cell_type": "code",
   "execution_count": 29,
   "metadata": {},
   "outputs": [
    {
     "name": "stdout",
     "output_type": "stream",
     "text": [
      "The value of a is: 5\n"
     ]
    }
   ],
   "source": [
    "# Python 3 code to demonstrate variable assignment\n",
    "# upon condition using Direct Initialisation Method\n",
    "\n",
    "# initialising variable directly\n",
    "a = 5\n",
    "\n",
    "# printing value of a\n",
    "print (\"The value of a is: \" + str(a))\n"
   ]
  },
  {
   "cell_type": "markdown",
   "metadata": {},
   "source": [
    "#### Method 2: Using Conditional Operator (?:) Below is the syntax in other popular languages."
   ]
  },
  {
   "cell_type": "code",
   "execution_count": null,
   "metadata": {},
   "outputs": [],
   "source": [
    "// C code to demonstrate variable assignment\n",
    "// upon condition using Conditional Operator\n",
    "\n",
    "#include <stdio.h>\n",
    "\n",
    "int main()\n",
    "{\n",
    "    // initialising variables using Conditional Operator\n",
    "    \n",
    "    int a = 20 > 10 ? 1 : 0;\n",
    "\n",
    "    // printing value of a\n",
    "    \n",
    "    printf(\"The value of a is: %d\", a);\n",
    "}\n"
   ]
  },
  {
   "cell_type": "markdown",
   "metadata": {},
   "source": [
    "#### One liner if-else instead of Conditional Operator (?:) in Python"
   ]
  },
  {
   "cell_type": "code",
   "execution_count": 30,
   "metadata": {},
   "outputs": [
    {
     "name": "stdout",
     "output_type": "stream",
     "text": [
      "The value of a is: 1\n"
     ]
    }
   ],
   "source": [
    "# Python 3 code to demonstrate variable assignment\n",
    "# upon condition using One liner if-else\n",
    "\n",
    "# initialising variable using Conditional Operator\n",
    "# a = 20 > 10 ? 1 : 0 is not possible in Python\n",
    "# Instead there is one liner if-else\n",
    "a = 1 if 20 > 10 else 0\n",
    "\n",
    "# printing value of a\n",
    "print (\"The value of a is: \" + str(a))\n"
   ]
  },
  {
   "cell_type": "markdown",
   "metadata": {},
   "source": [
    "#### <center>9. https://www.geeksforgeeks.org/print-without-newline-python/</center>"
   ]
  },
  {
   "cell_type": "markdown",
   "metadata": {},
   "source": [
    "#### Generally people switching from C/C++ to Python wonder how to print two or more variables or statements without going into a new line in python. \n",
    "#### Since the python print() function by default ends with newline. Python has a predefined format if you use print(a_variable) then it will go to next line automatically.\n",
    "#### For examples:"
   ]
  },
  {
   "cell_type": "code",
   "execution_count": 31,
   "metadata": {},
   "outputs": [
    {
     "name": "stdout",
     "output_type": "stream",
     "text": [
      "geeks\n",
      "geeksforgeeks\n"
     ]
    }
   ],
   "source": [
    "print(\"geeks\")\n",
    "print(\"geeksforgeeks\")\n"
   ]
  },
  {
   "cell_type": "code",
   "execution_count": 32,
   "metadata": {},
   "outputs": [
    {
     "name": "stdout",
     "output_type": "stream",
     "text": [
      "geeks geeksforgeeks\n",
      "1 2 3 4 "
     ]
    }
   ],
   "source": [
    "# Python 3 code for printing\n",
    "# on the same line printing\n",
    "# geeks and geeksforgeeks\n",
    "# in the same line\n",
    "\n",
    "print(\"geeks\", end =\" \")\n",
    "print(\"geeksforgeeks\")\n",
    "\n",
    "# array\n",
    "a = [1, 2, 3, 4]\n",
    "\n",
    "# printing a element in same\n",
    "# line\n",
    "for i in range(4):\n",
    "    print(a[i], end =\" \")\n"
   ]
  },
  {
   "cell_type": "markdown",
   "metadata": {},
   "source": [
    "#### <center>10. https://www.geeksforgeeks.org/python-if-else/</center>"
   ]
  },
  {
   "cell_type": "markdown",
   "metadata": {},
   "source": [
    "#### There comes situations in real life when we need to make some decisions and based on these decisions, we decide what should we do next. \n",
    "\n",
    "#### Similar situations arises in programming also where we need to make some decisions and based on these decisions we will execute the next block of code.\n",
    "\n",
    "#### Decision making statements in programming languages decides the direction of flow of program execution.\n",
    "\n",
    "#### Decision making statements available in python are:\n",
    "#### 1. if statement\n",
    "#### 2. if..else statements\n",
    "#### 3. nested if statements\n",
    "#### 4. if-elif ladder\n",
    "#### 5. Short Hand if statement\n",
    "#### 6. Short Hand if-else statement\n"
   ]
  },
  {
   "cell_type": "markdown",
   "metadata": {},
   "source": [
    "#### <center>if statement</center>\n",
    "\n",
    "#### if statement is the most simple decision making statement. \n",
    "#### It is used to decide whether a certain statement or block of statements will be executed or not i.e if a certain condition is true then a block of statement is executed otherwise not."
   ]
  },
  {
   "cell_type": "code",
   "execution_count": 33,
   "metadata": {},
   "outputs": [
    {
     "name": "stdout",
     "output_type": "stream",
     "text": [
      "I am Not in if\n"
     ]
    }
   ],
   "source": [
    "# python program to illustrate If statement\n",
    "\n",
    "i = 10\n",
    "if (i > 15):\n",
    "    print (\"10 is less than 15\")\n",
    "print (\"I am Not in if\")\n"
   ]
  },
  {
   "cell_type": "markdown",
   "metadata": {},
   "source": [
    "#### <center>if- else</center>\n",
    "\n",
    "#### The if statement alone tells us that if a condition is true it will execute a block of statements and if the condition is false it won’t. \n",
    "#### But what if we want to do something else if the condition is false. \n",
    "#### Here comes the else statement. We can use the else statement with if statement to execute a block of code when the condition is false."
   ]
  },
  {
   "cell_type": "code",
   "execution_count": 34,
   "metadata": {},
   "outputs": [
    {
     "name": "stdout",
     "output_type": "stream",
     "text": [
      "i is greater than 15\n",
      "i'm in else Block\n",
      "i'm not in if and not in else Block\n"
     ]
    }
   ],
   "source": [
    "# python program to illustrate If else statement\n",
    "#!/usr/bin/python\n",
    "\n",
    "i = 20;\n",
    "if (i < 15):\n",
    "    print (\"i is smaller than 15\")\n",
    "    print (\"i'm in if Block\")\n",
    "else:\n",
    "    print (\"i is greater than 15\")\n",
    "    print (\"i'm in else Block\")\n",
    "print (\"i'm not in if and not in else Block\")\n"
   ]
  },
  {
   "cell_type": "markdown",
   "metadata": {},
   "source": [
    "#### <center>nested-if</center>\n",
    "\n",
    "#### A nested if is an if statement that is the target of another if statement. \n",
    "#### Nested if statements means an if statement inside another if statement. \n",
    "#### Yes, Python allows us to nest if statements within if statements. i.e, we can place an if statement inside another if statement."
   ]
  },
  {
   "cell_type": "code",
   "execution_count": 35,
   "metadata": {},
   "outputs": [
    {
     "name": "stdout",
     "output_type": "stream",
     "text": [
      "i is smaller than 15\n",
      "i is smaller than 12 too\n"
     ]
    }
   ],
   "source": [
    "# python program to illustrate nested If statement\n",
    "#!/usr/bin/python\n",
    "i = 10\n",
    "if (i == 10):\n",
    "    # First if statement\n",
    "    if (i < 15):\n",
    "        print (\"i is smaller than 15\")\n",
    "    # Nested - if statement\n",
    "    # Will only be executed if statement above\n",
    "    # it is true\n",
    "    \n",
    "    if (i < 12):\n",
    "        print (\"i is smaller than 12 too\")\n",
    "    else:\n",
    "        print (\"i is greater than 15\")\n"
   ]
  },
  {
   "cell_type": "markdown",
   "metadata": {},
   "source": [
    "#### <center>if-elif-else ladder</center>\n",
    "\n",
    "#### Here, a user can decide among multiple options. The if statements are executed from the top down.\n",
    "#### As soon as one of the conditions controlling the if is true, the statement associated with that if is executed, and the rest of the ladder is bypassed. \n",
    "#### If none of the conditions is true, then the final else statement will be executed."
   ]
  },
  {
   "cell_type": "code",
   "execution_count": 36,
   "metadata": {},
   "outputs": [
    {
     "name": "stdout",
     "output_type": "stream",
     "text": [
      "i is 20\n"
     ]
    }
   ],
   "source": [
    "# Python program to illustrate if-elif-else ladder\n",
    "#!/usr/bin/python\n",
    "\n",
    "i = 20\n",
    "if (i == 10):\n",
    "    print (\"i is 10\")\n",
    "elif (i == 15):\n",
    "    print (\"i is 15\")\n",
    "elif (i == 20):\n",
    "    print (\"i is 20\")\n",
    "else:\n",
    "    print (\"i is not present\")\n"
   ]
  },
  {
   "cell_type": "markdown",
   "metadata": {},
   "source": [
    "#### <center>Short Hand if statement</center>\n",
    "\n",
    "#### Whenever there is only a single statement to be executed inside the if block then shorthand if can be used. The statement can be put on the same line as the if statement.\n",
    "#### Syntax: if condition: statement"
   ]
  },
  {
   "cell_type": "code",
   "execution_count": 38,
   "metadata": {},
   "outputs": [
    {
     "name": "stdout",
     "output_type": "stream",
     "text": [
      "i is less than 15\n"
     ]
    }
   ],
   "source": [
    "# Python program to illustrate short hand if\n",
    "i = 10\n",
    "if i < 15:print(\"i is less than 15\")\n"
   ]
  },
  {
   "cell_type": "markdown",
   "metadata": {},
   "source": [
    "#### <center>Short Hand if-else statement</center>\n",
    "\n",
    "#### This can be used to write the if-else statements in a single line where there is only one statement to be executed in both if and else block.\n",
    "\n",
    "#### Syntax: statement_when_True if condition else statement_when_False"
   ]
  },
  {
   "cell_type": "code",
   "execution_count": 39,
   "metadata": {},
   "outputs": [
    {
     "name": "stdout",
     "output_type": "stream",
     "text": [
      "True\n"
     ]
    }
   ],
   "source": [
    "# Python program to illustrate short hand if-else\n",
    "i = 10\n",
    "print(True) if i < 15 else print(False)\n"
   ]
  },
  {
   "cell_type": "markdown",
   "metadata": {},
   "source": [
    "#### <center>11. https://www.geeksforgeeks.org/make-simple-calculator-using-python/</center>"
   ]
  },
  {
   "cell_type": "markdown",
   "metadata": {},
   "source": [
    "#### Create a simple calculator which can perform basic arithmetic operations like addition, subtraction, multiplication or division depending upon the user input.\n",
    "\n",
    "#### Approach :\n",
    "#### 1. User choose the desired operation. Options 1, 2, 3 and 4 are valid.\n",
    "#### 2. Two numbers are taken and an if…elif…else branching is used to execute a particular section.\n",
    "#### 3. Using functions add(), subtract(), multiply() and divide() evaluate respective operations."
   ]
  },
  {
   "cell_type": "code",
   "execution_count": 41,
   "metadata": {},
   "outputs": [
    {
     "name": "stdout",
     "output_type": "stream",
     "text": [
      "Please select operation -\n",
      "1. Add\n",
      "2. Subtract\n",
      "3. Multiply\n",
      "4. Divide\n",
      "\n",
      "Select operations form 1, 2, 3, 4 :6\n",
      "Enter first number: 4\n",
      "Enter second number: 2\n",
      "Invalid input\n"
     ]
    }
   ],
   "source": [
    "# Python program for simple calculator\n",
    "\n",
    "# Function to add two numbers\n",
    "def add(num1, num2):\n",
    "    return num1 + num2\n",
    "\n",
    "# Function to subtract two numbers\n",
    "def subtract(num1, num2):\n",
    "    return num1 - num2\n",
    "\n",
    "# Function to multiply two numbers\n",
    "def multiply(num1, num2):\n",
    "    return num1 * num2\n",
    "\n",
    "# Function to divide two numbers\n",
    "def divide(num1, num2):\n",
    "    return num1 / num2\n",
    "\n",
    "print(\"Please select operation -\\n\" \\\n",
    "        \"1. Add\\n\" \\\n",
    "        \"2. Subtract\\n\" \\\n",
    "        \"3. Multiply\\n\" \\\n",
    "        \"4. Divide\\n\")\n",
    "\n",
    "\n",
    "# Take input from the user\n",
    "select = int(input(\"Select operations form 1, 2, 3, 4 :\"))\n",
    "\n",
    "number_1 = int(input(\"Enter first number: \"))\n",
    "number_2 = int(input(\"Enter second number: \"))\n",
    "\n",
    "if select == 1:\n",
    "    print(number_1, \"+\", number_2, \"=\",add(number_1, number_2))\n",
    "\n",
    "elif select == 2:\n",
    "    print(number_1, \"-\", number_2, \"=\",subtract(number_1, number_2))\n",
    "\n",
    "elif select == 3:\n",
    "    print(number_1, \"*\", number_2, \"=\",multiply(number_1, number_2))\n",
    "\n",
    "elif select == 4:\n",
    "    print(number_1, \"/\", number_2, \"=\",divide(number_1, number_2))\n",
    "else:\n",
    "    print(\"Invalid input\")\n"
   ]
  },
  {
   "cell_type": "markdown",
   "metadata": {},
   "source": [
    "#### <center>12. https://www.geeksforgeeks.org/python-language-advantages-applications/</center>"
   ]
  },
  {
   "cell_type": "markdown",
   "metadata": {},
   "source": [
    "#### <center>Advantages </center>\n",
    "#### 1) Presence of third-party modules\n",
    "#### 2) Extensive support libraries(NumPy for numerical calculations, Pandas for data analytics etc)\n",
    "#### 3) Open source and community development\n",
    "#### 4) Easy to learn\n",
    "#### 5) User-friendly data structures\n",
    "#### 6) High-level language\n",
    "#### 7) Dynamically typed language(No need to mention data type based on value assigned, it takes data type)\n",
    "#### 8) Object-oriented language\n",
    "#### 9) Portable and Interactive\n",
    "#### 10) Portable across Operating systems\n",
    "\n",
    "#### <center>Applications</center>\n",
    "#### 1) GUI based desktop applications(Games, Scientific Applications)\n",
    "#### 2) Web frameworks and applications\n",
    "#### 3) Enterprise and Business applications\n",
    "#### 4) Operating Systems\n",
    "#### 5) Language Development\n",
    "#### 6) Prototyping\n",
    "\n",
    "#### <center> Organizations using Python</center>\n",
    "#### 1) Google(Components of Google spider and Search Engine)\n",
    "#### 2) Yahoo(Maps)\n",
    "#### 3) YouTube\n",
    "#### 4) Mozilla\n",
    "#### 5) Dropbox\n",
    "#### 6) Microsoft\n",
    "#### 7) Cisco\n",
    "#### 8) Spotify\n",
    "#### 9) Quora"
   ]
  }
 ],
 "metadata": {
  "kernelspec": {
   "display_name": "Python 3",
   "language": "python",
   "name": "python3"
  },
  "language_info": {
   "codemirror_mode": {
    "name": "ipython",
    "version": 3
   },
   "file_extension": ".py",
   "mimetype": "text/x-python",
   "name": "python",
   "nbconvert_exporter": "python",
   "pygments_lexer": "ipython3",
   "version": "3.8.5"
  }
 },
 "nbformat": 4,
 "nbformat_minor": 4
}
