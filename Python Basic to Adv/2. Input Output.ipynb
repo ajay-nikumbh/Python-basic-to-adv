{
 "cells": [
  {
   "cell_type": "markdown",
   "metadata": {},
   "source": [
    "### <center>Input/Output</center>"
   ]
  },
  {
   "cell_type": "markdown",
   "metadata": {},
   "source": [
    "#### <center>1. https://www.geeksforgeeks.org/taking-input-in-python/</center>"
   ]
  },
  {
   "cell_type": "markdown",
   "metadata": {},
   "source": [
    "#### <center>Taking input in Python</center>\n",
    "#### Developers often have a need to interact with users, either to get data or to provide some sort of result. \n",
    "\n",
    "#### Most programs today use a dialog box as a way of asking the user to provide some type of input. While Python provides us with two inbuilt functions to read the input from the keyboard.\n",
    "\n",
    "#### 1. input ( prompt )\n",
    "#### 2. raw_input ( prompt )\n",
    "\n",
    "#### input ( ) : This function first takes the input from the user and then evaluates the expression, which means Python automatically identifies whether user entered a string or a number or list.\n",
    "#### If the input provided is not correct then either syntax error or exception is raised by python. \n",
    "#### For example –\n"
   ]
  },
  {
   "cell_type": "code",
   "execution_count": 1,
   "metadata": {},
   "outputs": [
    {
     "name": "stdout",
     "output_type": "stream",
     "text": [
      "Enter your value: 2\n",
      "2\n"
     ]
    }
   ],
   "source": [
    "# Python program showing\n",
    "# a use of input()\n",
    "\n",
    "val = input(\"Enter your value: \")\n",
    "print(val)\n"
   ]
  },
  {
   "cell_type": "markdown",
   "metadata": {},
   "source": [
    "#### <center>How the input function works in Python</center>\n",
    "\n",
    "#### When input() function executes program flow will be stopped until the user has given an input.\n",
    "\n",
    "#### The text or message display on the output screen to ask a user to enter input value is optional i.e. the prompt, will be printed on the screen is optional.\n",
    "\n",
    "#### Whatever you enter as input, input function convert it into a string. if you enter an integer value still input() function convert it into a string.\n",
    "\n",
    "#### You need to explicitly convert it into an integer in your code using typecasting."
   ]
  },
  {
   "cell_type": "code",
   "execution_count": 2,
   "metadata": {},
   "outputs": [
    {
     "name": "stdout",
     "output_type": "stream",
     "text": [
      "Enter number :123\n",
      "123\n",
      "Enter name : ajay\n",
      "ajay\n",
      "type of number <class 'str'>\n",
      "type of name <class 'str'>\n"
     ]
    }
   ],
   "source": [
    "# Program to check input\n",
    "# type in Python\n",
    "\n",
    "num = input (\"Enter number :\")\n",
    "print(num)\n",
    "name1 = input(\"Enter name : \")\n",
    "print(name1)\n",
    "\n",
    "# Printing type of input value\n",
    "print (\"type of number\", type(num))\n",
    "print (\"type of name\", type(name1))\n"
   ]
  },
  {
   "cell_type": "markdown",
   "metadata": {},
   "source": [
    "#### raw_input ( ) : This function works in older version (like Python 2.x). \n",
    "#### This function takes exactly what is typed from the keyboard, convert it to string and then return it to the variable in which we want to store. "
   ]
  },
  {
   "cell_type": "code",
   "execution_count": 4,
   "metadata": {},
   "outputs": [
    {
     "ename": "NameError",
     "evalue": "name 'raw_input' is not defined",
     "output_type": "error",
     "traceback": [
      "\u001b[1;31m---------------------------------------------------------------------------\u001b[0m",
      "\u001b[1;31mNameError\u001b[0m                                 Traceback (most recent call last)",
      "\u001b[1;32m<ipython-input-4-74a2b600aec0>\u001b[0m in \u001b[0;36m<module>\u001b[1;34m\u001b[0m\n\u001b[0;32m      2\u001b[0m \u001b[1;31m# a use of raw_input()\u001b[0m\u001b[1;33m\u001b[0m\u001b[1;33m\u001b[0m\u001b[1;33m\u001b[0m\u001b[0m\n\u001b[0;32m      3\u001b[0m \u001b[1;33m\u001b[0m\u001b[0m\n\u001b[1;32m----> 4\u001b[1;33m \u001b[0mg\u001b[0m \u001b[1;33m=\u001b[0m \u001b[0mraw_input\u001b[0m\u001b[1;33m(\u001b[0m\u001b[1;34m\"Enter your name : \"\u001b[0m\u001b[1;33m)\u001b[0m\u001b[1;33m\u001b[0m\u001b[1;33m\u001b[0m\u001b[0m\n\u001b[0m\u001b[0;32m      5\u001b[0m \u001b[0mprint\u001b[0m \u001b[1;33m(\u001b[0m\u001b[0mg\u001b[0m\u001b[1;33m)\u001b[0m\u001b[1;33m\u001b[0m\u001b[1;33m\u001b[0m\u001b[0m\n",
      "\u001b[1;31mNameError\u001b[0m: name 'raw_input' is not defined"
     ]
    }
   ],
   "source": [
    "# Python program showing\n",
    "# a use of raw_input()\n",
    "\n",
    "g = raw_input(\"Enter your name : \")\n",
    "print (g)\n"
   ]
  },
  {
   "cell_type": "markdown",
   "metadata": {},
   "source": [
    "#### <center>2. https://www.geeksforgeeks.org/taking-input-from-console-in-python/</center>"
   ]
  },
  {
   "cell_type": "markdown",
   "metadata": {},
   "source": [
    "#### <center>Taking input from console in Python</center>"
   ]
  },
  {
   "cell_type": "code",
   "execution_count": null,
   "metadata": {},
   "outputs": [],
   "source": [
    "# input\n",
    "input1 = input()\n",
    "\n",
    "# output\n",
    "print(input1)\n"
   ]
  },
  {
   "cell_type": "markdown",
   "metadata": {},
   "source": [
    "#### We can also type cast this input to integer, float or string by specifying the input() function inside the type.\n",
    "\n",
    "#### Typecasting the input to Integer: There might be conditions when you might require integer input from user/Console, the following code takes two input(integer/float) from console and typecasts them to integer then prints the sum."
   ]
  },
  {
   "cell_type": "code",
   "execution_count": 5,
   "metadata": {},
   "outputs": [
    {
     "name": "stdout",
     "output_type": "stream",
     "text": [
      "12\n",
      "12\n",
      "24\n"
     ]
    }
   ],
   "source": [
    "# input\n",
    "num1 = int(input())\n",
    "num2 = int(input())\n",
    "\n",
    "# printing the sum in integer\n",
    "print(num1 + num2)\n"
   ]
  },
  {
   "cell_type": "markdown",
   "metadata": {},
   "source": [
    "#### Typecasting the input to Float: To convert the input to float the following code will work out."
   ]
  },
  {
   "cell_type": "code",
   "execution_count": 6,
   "metadata": {},
   "outputs": [
    {
     "name": "stdout",
     "output_type": "stream",
     "text": [
      "1\n",
      "2\n",
      "3.0\n"
     ]
    }
   ],
   "source": [
    "# input\n",
    "num1 = float(input())\n",
    "num2 = float(input())\n",
    "\n",
    "# printing the sum in float\n",
    "print(num1 + num2)\n"
   ]
  },
  {
   "cell_type": "markdown",
   "metadata": {},
   "source": [
    "#### Typecasting the input to String: All kind of input can be converted to string type whether they are float or integer. We make use of keyword str for typecasting."
   ]
  },
  {
   "cell_type": "code",
   "execution_count": 8,
   "metadata": {},
   "outputs": [
    {
     "name": "stdout",
     "output_type": "stream",
     "text": [
      "1\n",
      "1\n"
     ]
    }
   ],
   "source": [
    "# input\n",
    "string = str(input())\n",
    "\n",
    "# output\n",
    "print(string)\n"
   ]
  },
  {
   "cell_type": "markdown",
   "metadata": {},
   "source": [
    "#### <center> 3. https://www.geeksforgeeks.org/taking-multiple-inputs-from-user-in-python/</center>"
   ]
  },
  {
   "cell_type": "markdown",
   "metadata": {},
   "source": [
    "#### <center>Taking multiple inputs from user in Python</center>\n"
   ]
  },
  {
   "cell_type": "markdown",
   "metadata": {},
   "source": [
    "#### Developer often wants a user to enter multiple values or inputs in one line. In C++/C user can take multiple inputs in one line using scanf but in Python user can take multiple values or inputs in one line by two methods. \n",
    "\n",
    "#### 1. Using split() method\n",
    "#### 2. Using List comprehension"
   ]
  },
  {
   "cell_type": "markdown",
   "metadata": {},
   "source": [
    "#### <center>Using split() method</center>\n",
    "#### This function helps in getting a multiple inputs from user. It breaks the given input by the specified separator.\n",
    "#### If a separator is not provided then any white space is a separator. Generally, user use a split() method to split a Python string but one can use it in taking multiple input.\n",
    "#### input().split(separator, maxsplit)"
   ]
  },
  {
   "cell_type": "code",
   "execution_count": 9,
   "metadata": {},
   "outputs": [
    {
     "name": "stdout",
     "output_type": "stream",
     "text": [
      "Enter a two value: 2 10\n",
      "Number of boys:  2\n",
      "Number of girls:  10\n",
      "\n",
      "Enter a three value: 1 2 3\n",
      "Total number of students:  1\n",
      "Number of boys is :  2\n",
      "Number of girls is :  3\n",
      "\n",
      "Enter a two value: 1 2 3 4\n"
     ]
    },
    {
     "ename": "ValueError",
     "evalue": "too many values to unpack (expected 2)",
     "output_type": "error",
     "traceback": [
      "\u001b[1;31m---------------------------------------------------------------------------\u001b[0m",
      "\u001b[1;31mValueError\u001b[0m                                Traceback (most recent call last)",
      "\u001b[1;32m<ipython-input-9-311edcceaea9>\u001b[0m in \u001b[0;36m<module>\u001b[1;34m\u001b[0m\n\u001b[0;32m     16\u001b[0m \u001b[1;33m\u001b[0m\u001b[0m\n\u001b[0;32m     17\u001b[0m \u001b[1;31m# taking two inputs at a time\u001b[0m\u001b[1;33m\u001b[0m\u001b[1;33m\u001b[0m\u001b[1;33m\u001b[0m\u001b[0m\n\u001b[1;32m---> 18\u001b[1;33m \u001b[0ma\u001b[0m\u001b[1;33m,\u001b[0m \u001b[0mb\u001b[0m \u001b[1;33m=\u001b[0m \u001b[0minput\u001b[0m\u001b[1;33m(\u001b[0m\u001b[1;34m\"Enter a two value: \"\u001b[0m\u001b[1;33m)\u001b[0m\u001b[1;33m.\u001b[0m\u001b[0msplit\u001b[0m\u001b[1;33m(\u001b[0m\u001b[1;33m)\u001b[0m\u001b[1;33m\u001b[0m\u001b[1;33m\u001b[0m\u001b[0m\n\u001b[0m\u001b[0;32m     19\u001b[0m \u001b[0mprint\u001b[0m\u001b[1;33m(\u001b[0m\u001b[1;34m\"First number is {} and second number is {}\"\u001b[0m\u001b[1;33m.\u001b[0m\u001b[0mformat\u001b[0m\u001b[1;33m(\u001b[0m\u001b[0ma\u001b[0m\u001b[1;33m,\u001b[0m \u001b[0mb\u001b[0m\u001b[1;33m)\u001b[0m\u001b[1;33m)\u001b[0m\u001b[1;33m\u001b[0m\u001b[1;33m\u001b[0m\u001b[0m\n\u001b[0;32m     20\u001b[0m \u001b[0mprint\u001b[0m\u001b[1;33m(\u001b[0m\u001b[1;33m)\u001b[0m\u001b[1;33m\u001b[0m\u001b[1;33m\u001b[0m\u001b[0m\n",
      "\u001b[1;31mValueError\u001b[0m: too many values to unpack (expected 2)"
     ]
    }
   ],
   "source": [
    "# Python program showing how to\n",
    "# multiple input using split\n",
    "\n",
    "# taking two inputs at a time\n",
    "x, y = input(\"Enter a two value: \").split()\n",
    "print(\"Number of boys: \", x)\n",
    "print(\"Number of girls: \", y)\n",
    "print()\n",
    "\n",
    "# taking three inputs at a time\n",
    "x, y, z = input(\"Enter a three value: \").split()\n",
    "print(\"Total number of students: \", x)\n",
    "print(\"Number of boys is : \", y)\n",
    "print(\"Number of girls is : \", z)\n",
    "print()\n",
    "\n",
    "# taking two inputs at a time\n",
    "a, b = input(\"Enter a two value: \").split()\n",
    "print(\"First number is {} and second number is {}\".format(a, b))\n",
    "print()\n",
    "\n",
    "# taking multiple inputs at a time\n",
    "# and type casting using list() function\n",
    "x = list(map(int, input(\"Enter a multiple value: \").split()))\n",
    "print(\"List of students: \", x)\n"
   ]
  },
  {
   "cell_type": "markdown",
   "metadata": {},
   "source": [
    "#### <center>Using List comprehension</center>\n",
    "#### List comprehension is an elegant way to define and create list in Python. We can create lists just like mathematical statements in one line only. \n",
    "#### It is also used in getting multiple inputs from a user. "
   ]
  },
  {
   "cell_type": "code",
   "execution_count": 10,
   "metadata": {},
   "outputs": [
    {
     "name": "stdout",
     "output_type": "stream",
     "text": [
      "Enter two value: 1 2\n",
      "First Number is:  1\n",
      "Second Number is:  2\n",
      "\n",
      "Enter three value: 1 2 3\n",
      "First Number is:  1\n",
      "Second Number is:  2\n",
      "Third Number is:  3\n",
      "\n",
      "Enter two value: 1 2\n",
      "First number is 1 and second number is 2\n",
      "\n",
      "Enter multiple value: 1 2 3 4 4 5 6\n",
      "Number of list is:  [1, 2, 3, 4, 4, 5, 6]\n"
     ]
    }
   ],
   "source": [
    "# Python program showing\n",
    "# how to take multiple input\n",
    "# using List comprehension\n",
    "\n",
    "# taking two input at a time\n",
    "x, y = [int(x) for x in input(\"Enter two value: \").split()]\n",
    "print(\"First Number is: \", x)\n",
    "print(\"Second Number is: \", y)\n",
    "print()\n",
    "\n",
    "# taking three input at a time\n",
    "x, y, z = [int(x) for x in input(\"Enter three value: \").split()]\n",
    "print(\"First Number is: \", x)\n",
    "print(\"Second Number is: \", y)\n",
    "print(\"Third Number is: \", z)\n",
    "print()\n",
    "\n",
    "# taking two inputs at a time\n",
    "x, y = [int(x) for x in input(\"Enter two value: \").split()]\n",
    "print(\"First number is {} and second number is {}\".format(x, y))\n",
    "print()\n",
    "\n",
    "# taking multiple inputs at a time\n",
    "x = [int(x) for x in input(\"Enter multiple value: \").split()]\n",
    "print(\"Number of list is: \", x)\n"
   ]
  },
  {
   "cell_type": "markdown",
   "metadata": {},
   "source": [
    "#### Note: Note : The above examples take input separated by spaces. In case we wish to take input separated by comma (, ), we can use following: "
   ]
  },
  {
   "cell_type": "code",
   "execution_count": 12,
   "metadata": {},
   "outputs": [
    {
     "name": "stdout",
     "output_type": "stream",
     "text": [
      "Enter multiple value: 1,2,3,4,5,6\n",
      "Number of list is:  [1, 2, 3, 4, 5, 6]\n"
     ]
    }
   ],
   "source": [
    "# taking multiple inputs at a time separated by comma\n",
    "x = [int(x) for x in input(\"Enter multiple value: \").split(\",\")]\n",
    "print(\"Number of list is: \", x)\n"
   ]
  },
  {
   "cell_type": "markdown",
   "metadata": {},
   "source": [
    "#### <center>4. https://www.geeksforgeeks.org/vulnerability-input-function-python-2-x/</center>"
   ]
  },
  {
   "cell_type": "markdown",
   "metadata": {},
   "source": [
    "#### <center>Vulnerability in input() function – Python 2.x</center>"
   ]
  },
  {
   "cell_type": "markdown",
   "metadata": {},
   "source": [
    "#### This article aims at explaining and exploring the vulnerability in the input() function in Python 2.x. In Python 3, the raw_input() function was erased, and it’s functionality was transferred to a new built-in function known as input().\n",
    "\n",
    "#### Ways to input data in Python 2.x\n",
    "\n",
    "#### There are two common methods to receive input in Python 2.x:\n",
    "\n",
    "#### Using the input() function: This function takes the value and type of the input you enter as it is without modifying any type.\n",
    "#### Using the raw_input() function : This function explicitly converts the input you give to type string,\n",
    "#### Let us use the following program to determine the difference between the two:"
   ]
  },
  {
   "cell_type": "code",
   "execution_count": 17,
   "metadata": {},
   "outputs": [
    {
     "ename": "NameError",
     "evalue": "name 'raw_input' is not defined",
     "output_type": "error",
     "traceback": [
      "\u001b[1;31m---------------------------------------------------------------------------\u001b[0m",
      "\u001b[1;31mNameError\u001b[0m                                 Traceback (most recent call last)",
      "\u001b[1;32m<ipython-input-17-2d20514138e8>\u001b[0m in \u001b[0;36m<module>\u001b[1;34m\u001b[0m\n\u001b[0;32m      5\u001b[0m \u001b[1;31m# after which data type of the value\u001b[0m\u001b[1;33m\u001b[0m\u001b[1;33m\u001b[0m\u001b[1;33m\u001b[0m\u001b[0m\n\u001b[0;32m      6\u001b[0m \u001b[1;31m# entered is displayed\u001b[0m\u001b[1;33m\u001b[0m\u001b[1;33m\u001b[0m\u001b[1;33m\u001b[0m\u001b[0m\n\u001b[1;32m----> 7\u001b[1;33m \u001b[0ms1\u001b[0m \u001b[1;33m=\u001b[0m \u001b[0mraw_input\u001b[0m\u001b[1;33m(\u001b[0m\u001b[1;34m\"Enter input to test raw_input() function: \"\u001b[0m\u001b[1;33m)\u001b[0m\u001b[1;33m\u001b[0m\u001b[1;33m\u001b[0m\u001b[0m\n\u001b[0m\u001b[0;32m      8\u001b[0m \u001b[0mprint\u001b[0m \u001b[1;33m(\u001b[0m\u001b[0mtype\u001b[0m\u001b[1;33m(\u001b[0m\u001b[0ms1\u001b[0m\u001b[1;33m)\u001b[0m\u001b[1;33m)\u001b[0m\u001b[1;33m\u001b[0m\u001b[1;33m\u001b[0m\u001b[0m\n\u001b[0;32m      9\u001b[0m \u001b[1;33m\u001b[0m\u001b[0m\n",
      "\u001b[1;31mNameError\u001b[0m: name 'raw_input' is not defined"
     ]
    }
   ],
   "source": [
    "# Python 2.x program to show differences between\n",
    "# input() and rawinput()function\n",
    "\n",
    "# 3 inputs using raw_input() function,\n",
    "# after which data type of the value\n",
    "# entered is displayed\n",
    "s1 = raw_input(\"Enter input to test raw_input() function: \")\n",
    "print (type(s1))\n",
    "\n",
    "s2 = raw_input(\"Enter input to test raw_input() function: \")\n",
    "print (type(s2))\n",
    "\n",
    "s3 = raw_input(\"Enter input to test raw_input() function: \")\n",
    "print (type(s3))\n",
    "\n",
    "# 3 inputs using input() function,\n",
    "# after which data type of the value\n",
    "# entered is displayed\n",
    "s4 = input(\"Enter input to test input() function: \")\n",
    "print (type(s4))\n",
    "\n",
    "s5 = input(\"Enter input to test input() function: \")\n",
    "print (type(s5))\n",
    "\n",
    "s6 = input(\"Enter input to test input() function: \")\n",
    "print (type(s6))\n"
   ]
  },
  {
   "cell_type": "markdown",
   "metadata": {},
   "source": [
    "\n",
    "#### Note: While giving string input in the input() function, we have to enclose to value in double quotes. This is not required in raw_input()"
   ]
  },
  {
   "cell_type": "markdown",
   "metadata": {},
   "source": [
    "#### Vulnerability in input() method\n",
    "\n",
    "#### The vulnerability in input() method lies in the fact that the variable accessing the value of input can be accessed by anyone just by using the name of variable or method. Let’s explore these one by one:\n",
    "\n",
    "#### 1. Variable name as input parameter: The variable having the value of input variable is able to access the value of the input variable directly."
   ]
  },
  {
   "cell_type": "code",
   "execution_count": 19,
   "metadata": {},
   "outputs": [
    {
     "name": "stdout",
     "output_type": "stream",
     "text": [
      "Pick a number between 1 to 500\n",
      "Guess the number: 1\n",
      "You lose\n",
      "Guess the number: 2\n",
      "You lose\n",
      "Guess the number: 3\n",
      "You lose\n",
      "Guess the number: 4\n",
      "You lose\n",
      "Guess the number: 5\n",
      "You lose\n",
      "Guess the number: ex\n",
      "You lose\n",
      "Guess the number: exit\n",
      "You lose\n"
     ]
    },
    {
     "ename": "KeyboardInterrupt",
     "evalue": "Interrupted by user",
     "output_type": "error",
     "traceback": [
      "\u001b[1;31m---------------------------------------------------------------------------\u001b[0m",
      "\u001b[1;31mKeyboardInterrupt\u001b[0m                         Traceback (most recent call last)",
      "\u001b[1;32m<ipython-input-19-e6a91c645700>\u001b[0m in \u001b[0;36m<module>\u001b[1;34m\u001b[0m\n\u001b[0;32m      6\u001b[0m \u001b[0mprint\u001b[0m \u001b[1;33m(\u001b[0m\u001b[1;34m\"Pick a number between 1 to 500\"\u001b[0m\u001b[1;33m)\u001b[0m\u001b[1;33m\u001b[0m\u001b[1;33m\u001b[0m\u001b[0m\n\u001b[0;32m      7\u001b[0m \u001b[1;32mwhile\u001b[0m \u001b[1;32mTrue\u001b[0m\u001b[1;33m:\u001b[0m\u001b[1;33m\u001b[0m\u001b[1;33m\u001b[0m\u001b[0m\n\u001b[1;32m----> 8\u001b[1;33m     \u001b[0mres\u001b[0m \u001b[1;33m=\u001b[0m \u001b[0minput\u001b[0m\u001b[1;33m(\u001b[0m\u001b[1;34m\"Guess the number: \"\u001b[0m\u001b[1;33m)\u001b[0m\u001b[1;33m\u001b[0m\u001b[1;33m\u001b[0m\u001b[0m\n\u001b[0m\u001b[0;32m      9\u001b[0m     \u001b[1;32mif\u001b[0m \u001b[0mres\u001b[0m\u001b[1;33m==\u001b[0m\u001b[0msecret_number\u001b[0m\u001b[1;33m:\u001b[0m\u001b[1;33m\u001b[0m\u001b[1;33m\u001b[0m\u001b[0m\n\u001b[0;32m     10\u001b[0m         \u001b[0mprint\u001b[0m\u001b[1;33m(\u001b[0m \u001b[1;34m\"You win\"\u001b[0m\u001b[1;33m)\u001b[0m\u001b[1;33m\u001b[0m\u001b[1;33m\u001b[0m\u001b[0m\n",
      "\u001b[1;32mC:\\ProgramData\\Anaconda3\\lib\\site-packages\\ipykernel\\kernelbase.py\u001b[0m in \u001b[0;36mraw_input\u001b[1;34m(self, prompt)\u001b[0m\n\u001b[0;32m    858\u001b[0m                 \u001b[1;34m\"raw_input was called, but this frontend does not support input requests.\"\u001b[0m\u001b[1;33m\u001b[0m\u001b[1;33m\u001b[0m\u001b[0m\n\u001b[0;32m    859\u001b[0m             )\n\u001b[1;32m--> 860\u001b[1;33m         return self._input_request(str(prompt),\n\u001b[0m\u001b[0;32m    861\u001b[0m             \u001b[0mself\u001b[0m\u001b[1;33m.\u001b[0m\u001b[0m_parent_ident\u001b[0m\u001b[1;33m,\u001b[0m\u001b[1;33m\u001b[0m\u001b[1;33m\u001b[0m\u001b[0m\n\u001b[0;32m    862\u001b[0m             \u001b[0mself\u001b[0m\u001b[1;33m.\u001b[0m\u001b[0m_parent_header\u001b[0m\u001b[1;33m,\u001b[0m\u001b[1;33m\u001b[0m\u001b[1;33m\u001b[0m\u001b[0m\n",
      "\u001b[1;32mC:\\ProgramData\\Anaconda3\\lib\\site-packages\\ipykernel\\kernelbase.py\u001b[0m in \u001b[0;36m_input_request\u001b[1;34m(self, prompt, ident, parent, password)\u001b[0m\n\u001b[0;32m    902\u001b[0m             \u001b[1;32mexcept\u001b[0m \u001b[0mKeyboardInterrupt\u001b[0m\u001b[1;33m:\u001b[0m\u001b[1;33m\u001b[0m\u001b[1;33m\u001b[0m\u001b[0m\n\u001b[0;32m    903\u001b[0m                 \u001b[1;31m# re-raise KeyboardInterrupt, to truncate traceback\u001b[0m\u001b[1;33m\u001b[0m\u001b[1;33m\u001b[0m\u001b[1;33m\u001b[0m\u001b[0m\n\u001b[1;32m--> 904\u001b[1;33m                 \u001b[1;32mraise\u001b[0m \u001b[0mKeyboardInterrupt\u001b[0m\u001b[1;33m(\u001b[0m\u001b[1;34m\"Interrupted by user\"\u001b[0m\u001b[1;33m)\u001b[0m \u001b[1;32mfrom\u001b[0m \u001b[1;32mNone\u001b[0m\u001b[1;33m\u001b[0m\u001b[1;33m\u001b[0m\u001b[0m\n\u001b[0m\u001b[0;32m    905\u001b[0m             \u001b[1;32mexcept\u001b[0m \u001b[0mException\u001b[0m \u001b[1;32mas\u001b[0m \u001b[0me\u001b[0m\u001b[1;33m:\u001b[0m\u001b[1;33m\u001b[0m\u001b[1;33m\u001b[0m\u001b[0m\n\u001b[0;32m    906\u001b[0m                 \u001b[0mself\u001b[0m\u001b[1;33m.\u001b[0m\u001b[0mlog\u001b[0m\u001b[1;33m.\u001b[0m\u001b[0mwarning\u001b[0m\u001b[1;33m(\u001b[0m\u001b[1;34m\"Invalid Message:\"\u001b[0m\u001b[1;33m,\u001b[0m \u001b[0mexc_info\u001b[0m\u001b[1;33m=\u001b[0m\u001b[1;32mTrue\u001b[0m\u001b[1;33m)\u001b[0m\u001b[1;33m\u001b[0m\u001b[1;33m\u001b[0m\u001b[0m\n",
      "\u001b[1;31mKeyboardInterrupt\u001b[0m: Interrupted by user"
     ]
    }
   ],
   "source": [
    "# Python 2.x program to show Vulnerabilities\n",
    "# in input() function using a variable\n",
    "\n",
    "import random\n",
    "secret_number = random.randint(1,500)\n",
    "print (\"Pick a number between 1 to 500\")\n",
    "while True:\n",
    "    res = input(\"Guess the number: \")\n",
    "    if res==secret_number:\n",
    "        print( \"You win\")\n",
    "        break\n",
    "    else:\n",
    "        print (\"You lose\")\n",
    "        continue\n"
   ]
  },
  {
   "cell_type": "markdown",
   "metadata": {},
   "source": [
    "#### As it can be seen, in second case the variable “secret_number” can be directly given as input and answer is always “You won”. \n",
    "#### It evaluates the variable as if a number was directly entered, by which means it returns a True Boolean always.\n",
    "\n",
    "#### Using raw_input, it would not be possible as it disallows to read the variable directly.\n",
    "\n"
   ]
  },
  {
   "cell_type": "markdown",
   "metadata": {},
   "source": [
    "#### 2. Function name as parameter: The vulnerability lies here as we can even provide the name of a function as input and access values that are otherwise not meant to be accessed."
   ]
  },
  {
   "cell_type": "code",
   "execution_count": 20,
   "metadata": {},
   "outputs": [
    {
     "ename": "NameError",
     "evalue": "name 'raw_input' is not defined",
     "output_type": "error",
     "traceback": [
      "\u001b[1;31m---------------------------------------------------------------------------\u001b[0m",
      "\u001b[1;31mNameError\u001b[0m                                 Traceback (most recent call last)",
      "\u001b[1;32m<ipython-input-20-2f300a75022b>\u001b[0m in \u001b[0;36m<module>\u001b[1;34m\u001b[0m\n\u001b[0;32m      8\u001b[0m \u001b[1;33m\u001b[0m\u001b[0m\n\u001b[0;32m      9\u001b[0m \u001b[1;31m# using raw_input() to enter the number\u001b[0m\u001b[1;33m\u001b[0m\u001b[1;33m\u001b[0m\u001b[1;33m\u001b[0m\u001b[0m\n\u001b[1;32m---> 10\u001b[1;33m \u001b[0minput1\u001b[0m \u001b[1;33m=\u001b[0m \u001b[0mraw_input\u001b[0m\u001b[1;33m(\u001b[0m\u001b[1;34m\"Raw_input(): Guess secret number: \"\u001b[0m\u001b[1;33m)\u001b[0m\u001b[1;33m\u001b[0m\u001b[1;33m\u001b[0m\u001b[0m\n\u001b[0m\u001b[0;32m     11\u001b[0m \u001b[1;33m\u001b[0m\u001b[0m\n\u001b[0;32m     12\u001b[0m \u001b[1;31m# input1 will be explicitly converted to a string\u001b[0m\u001b[1;33m\u001b[0m\u001b[1;33m\u001b[0m\u001b[1;33m\u001b[0m\u001b[0m\n",
      "\u001b[1;31mNameError\u001b[0m: name 'raw_input' is not defined"
     ]
    }
   ],
   "source": [
    "# Python 2.x program to demonstrate input() function\n",
    "# vulnerability by passing function name as parameter\n",
    "secret_value = 500\n",
    "\n",
    "# function that returns the secret value\n",
    "def secretfunction():\n",
    "    return secret_value\n",
    "\n",
    "# using raw_input() to enter the number\n",
    "input1 = raw_input(\"Raw_input(): Guess secret number: \")\n",
    "\n",
    "# input1 will be explicitly converted to a string\n",
    "if input1 == secret_value:\n",
    "    print( \"You guessed correct\")\n",
    "else:\n",
    "    print (\"wrong answer\")\n",
    "    \n",
    "# using input() to enter the number\n",
    "input2 = input(\"Input(): Guess the secret number: \")\n",
    "\n",
    "#input2 is evaluated as it is entered\n",
    "if input2 == secret_value:\n",
    "    print (\"You guessed correct\")\n",
    "else:\n",
    "    print (\"wrong answer\")\n"
   ]
  },
  {
   "cell_type": "markdown",
   "metadata": {},
   "source": [
    "#### <center>5. https://www.geeksforgeeks.org/python-output-using-print-function/</center>"
   ]
  },
  {
   "cell_type": "markdown",
   "metadata": {},
   "source": [
    "#### <center>Python | Output using print() function</center>"
   ]
  },
  {
   "cell_type": "markdown",
   "metadata": {},
   "source": [
    "#### The simplest way to produce output is using the print() function where you can pass zero or more expressions separated by commas. \n",
    "#### This function converts the expressions you pass into a string before writing to the screen. "
   ]
  },
  {
   "cell_type": "markdown",
   "metadata": {},
   "source": [
    "#### Syntax: print(value(s), sep= ‘ ‘, end = ‘\\n’, file=file, flush=flush)\n",
    "#### Parameters: \n",
    "#### value(s) : Any value, and as many as you like. Will be converted to string before printed \n",
    "\n",
    "#### sep=’separator’ : (Optional) Specify how to separate the objects, if there is more than one.Default :’ ‘ \n",
    "\n",
    "#### end=’end’: (Optional) Specify what to print at the end.Default : ‘\\n’ \n",
    "#### file : (Optional) An object with a write method. Default :sys.stdout \n",
    "#### flush : (Optional) A Boolean, specifying if the output is flushed (True) or buffered (False). Default: False\n",
    "#### Returns: It returns output to the screen."
   ]
  },
  {
   "cell_type": "markdown",
   "metadata": {},
   "source": [
    "#### Though it is not necessary to pass arguments in the print() function, it requires an empty parenthesis at the end that tells python to execute the function rather calling it by name. \n",
    "#### Now, let’s explore the optional arguments that can be used with the print() function.\n",
    "\n"
   ]
  },
  {
   "cell_type": "markdown",
   "metadata": {},
   "source": [
    "#### <center>1. String Literals</center>\n",
    "#### String literals in python’s print statement are primarily used to format or design how a specific string appears when printed using the print() function.\n",
    "\n",
    "#### \\n : This string literal is used to add a new blank line while printing a statement.\n",
    "#### “” : An empty quote (“”) is used to print an empty line."
   ]
  },
  {
   "cell_type": "code",
   "execution_count": 21,
   "metadata": {},
   "outputs": [
    {
     "name": "stdout",
     "output_type": "stream",
     "text": [
      "GeeksforGeeks \n",
      " is best for DSA Content.\n"
     ]
    }
   ],
   "source": [
    "print (\"GeeksforGeeks \\n is best for DSA Content.\")\n"
   ]
  },
  {
   "cell_type": "markdown",
   "metadata": {},
   "source": [
    "#### <center>2. end= ” ” statement</center>\n",
    "#### The end keyword is used to specify the content that is to be printed at the end of the execution of the print() function.\n",
    "\n",
    "#### By default, it is set to “\\n”, which leads to the change of line after the execution of print() statement."
   ]
  },
  {
   "cell_type": "code",
   "execution_count": 22,
   "metadata": {},
   "outputs": [
    {
     "name": "stdout",
     "output_type": "stream",
     "text": [
      "GeeksForGeeks is the best platform for DSA content\n",
      "GeeksForGeeks is the best platform for DSA content**"
     ]
    }
   ],
   "source": [
    "# This line will automatically add a new line before the\n",
    "# next print statement\n",
    "print (\"GeeksForGeeks is the best platform for DSA content\")\n",
    "\n",
    "# This print() function ends with \"**\" as set in the end argumennt.\n",
    "print (\"GeeksForGeeks is the best platform for DSA content\", end= \"**\")\n"
   ]
  },
  {
   "cell_type": "markdown",
   "metadata": {},
   "source": [
    "#### <center>3. flush Argument</center>\n",
    "#### The I/Os in python is generally buffered, meaning they are used in chunks. This is where flush comes in as it helps users to decide if they need the written content to be buffered or not. \n",
    "\n",
    "#### By default, it is set to false. If it is set to true, the output will be written as a sequence of characters one after the other. This process is slow simply because it is easier to write in chunks rather than writing one character at a time. \n",
    "\n",
    "#### To understand the use case of the flush argument in the print() function, let’s take an example.\n",
    "\n",
    "#### Example: Imagine you are building a countdown timer, which appends the remaining time to the same line every second. \n",
    "\n",
    "#### It would look something like below: 3>>>2>>>1>>>Start\n",
    "#### The initial code for this would look something like below;"
   ]
  },
  {
   "cell_type": "code",
   "execution_count": 23,
   "metadata": {},
   "outputs": [
    {
     "name": "stdout",
     "output_type": "stream",
     "text": [
      "3>>>2>>>1>>>Start\n"
     ]
    }
   ],
   "source": [
    "import time\n",
    "\n",
    "count_seconds = 3\n",
    "for i in reversed(range(count_seconds + 1)):\n",
    "    if i > 0:\n",
    "        print(i, end='>>>')\n",
    "        time.sleep(1)\n",
    "    \n",
    "    else:\n",
    "        print('Start')\n"
   ]
  },
  {
   "cell_type": "markdown",
   "metadata": {},
   "source": [
    "#### <center>4. Separator</center>\n",
    "#### The print() function can accept any number of positional arguments. These arguments can be separated from each other using a “,” separator. \n",
    "\n",
    "#### These are primarily used for formatting multiple statements in a single print() function."
   ]
  },
  {
   "cell_type": "code",
   "execution_count": 24,
   "metadata": {},
   "outputs": [
    {
     "name": "stdout",
     "output_type": "stream",
     "text": [
      "Geeks for Geeks\n"
     ]
    }
   ],
   "source": [
    "b = \"for\"\n",
    "\n",
    "print(\"Geeks\", b , \"Geeks\")\n"
   ]
  },
  {
   "cell_type": "markdown",
   "metadata": {},
   "source": [
    "#### <center>5. file Argument</center>\n",
    "#### Contrary to popular belief, the print() function doesn’t convert the messages into text on the screen. These are done by lower-level layers of code, that can read data(message) in bytes. \n",
    "\n",
    "#### The print() function is an interface over these layers, that delegates the actual printing to a stream or file-like object.\n",
    "\n",
    "#### By default, the print() function is bound to sys.stdout through the file argument. "
   ]
  },
  {
   "cell_type": "code",
   "execution_count": 25,
   "metadata": {},
   "outputs": [
    {
     "data": {
      "text/plain": [
       "'Hello Geeks!!\\n'"
      ]
     },
     "execution_count": 25,
     "metadata": {},
     "output_type": "execute_result"
    }
   ],
   "source": [
    "import io\n",
    "\n",
    "# declare a dummy file\n",
    "dummy_file = io.StringIO()\n",
    "\n",
    "# add message to the dummy file\n",
    "print('Hello Geeks!!', file=dummy_file)\n",
    "\n",
    "# get the value from dummy file\n",
    "dummy_file.getvalue()\n"
   ]
  },
  {
   "cell_type": "code",
   "execution_count": 26,
   "metadata": {},
   "outputs": [
    {
     "name": "stdout",
     "output_type": "stream",
     "text": [
      "GeeksForGeeks\n",
      "x = 5\n",
      "GFG\n",
      "Python@GeeksforGeeks\n"
     ]
    }
   ],
   "source": [
    "# Python 3.x program showing\n",
    "# how to print data on\n",
    "# a screen\n",
    "\n",
    "# One object is passed\n",
    "print(\"GeeksForGeeks\")\n",
    "\n",
    "x = 5\n",
    "# Two objects are passed\n",
    "print(\"x =\", x)\n",
    "\n",
    "# code for disabling the softspace feature\n",
    "print('G', 'F', 'G', sep ='')\n",
    "\n",
    "# using end argument\n",
    "print(\"Python\", end = '@')\n",
    "print(\"GeeksforGeeks\")\n"
   ]
  },
  {
   "cell_type": "markdown",
   "metadata": {},
   "source": [
    "#### <center>6. https://www.geeksforgeeks.org/gfact-50-python-end-parameter-in-print/</center>"
   ]
  },
  {
   "cell_type": "markdown",
   "metadata": {},
   "source": [
    "#### <center>Python end parameter in print()</center>"
   ]
  },
  {
   "cell_type": "markdown",
   "metadata": {},
   "source": [
    "#### By default python’s print() function ends with a newline. A programmer with C/C++ background may wonder how to print without newline.\n",
    "\n",
    "#### Python’s print() function comes with a parameter called ‘end’. By default, the value of this parameter is ‘\\n’, i.e. the new line character. \n",
    "\n",
    "#### You can end a print statement with any character/string using this parameter."
   ]
  },
  {
   "cell_type": "code",
   "execution_count": 27,
   "metadata": {},
   "outputs": [
    {
     "name": "stdout",
     "output_type": "stream",
     "text": [
      "Welcome to GeeksforGeeks "
     ]
    }
   ],
   "source": [
    "# This Python program must be run with\n",
    "# Python 3 as it won't work with 2.7.\n",
    "\n",
    "# ends the output with a <space>\n",
    "print(\"Welcome to\" , end = ' ')\n",
    "print(\"GeeksforGeeks\", end = ' ')\n"
   ]
  },
  {
   "cell_type": "code",
   "execution_count": 28,
   "metadata": {},
   "outputs": [
    {
     "name": "stdout",
     "output_type": "stream",
     "text": [
      "Python@GeeksforGeeks\n"
     ]
    }
   ],
   "source": [
    "# This Python program must be run with\n",
    "# Python 3 as it won't work with 2.7.\n",
    "\n",
    "# ends the output with '@'\n",
    "print(\"Python\" , end = '@')\n",
    "print(\"GeeksforGeeks\")\n"
   ]
  },
  {
   "cell_type": "markdown",
   "metadata": {},
   "source": [
    "#### <center>7. https://www.geeksforgeeks.org/python-sep-parameter-print/</center>"
   ]
  },
  {
   "cell_type": "markdown",
   "metadata": {},
   "source": [
    "#### <center>Python | sep parameter in print()</center>"
   ]
  },
  {
   "cell_type": "markdown",
   "metadata": {},
   "source": [
    "#### The separator between the arguments to print() function in Python is space by default (softspace feature) , which can be modified and can be made to any character, integer or string as per our choice. \n",
    "\n",
    "#### The ‘sep’ parameter is used to achieve the same, it is found only in python 3.x or later. It is also used for formatting the output strings."
   ]
  },
  {
   "cell_type": "code",
   "execution_count": 30,
   "metadata": {},
   "outputs": [
    {
     "name": "stdout",
     "output_type": "stream",
     "text": [
      "GFG\n",
      "09-12-2016\n",
      "ajay@geeksforgeeks\n"
     ]
    }
   ],
   "source": [
    "#code for disabling the softspace feature\n",
    "print('G','F','G', sep='')\n",
    "\n",
    "#for formatting a date\n",
    "print('09','12','2016', sep='-')\n",
    "\n",
    "#another example\n",
    "print('ajay','geeksforgeeks', sep='@')\n"
   ]
  },
  {
   "cell_type": "markdown",
   "metadata": {},
   "source": [
    "#### The sep parameter when used with the end parameter it produces awesome results. \n",
    "#### Some examples by combining the sep and end parameters."
   ]
  },
  {
   "cell_type": "code",
   "execution_count": 31,
   "metadata": {},
   "outputs": [
    {
     "name": "stdout",
     "output_type": "stream",
     "text": [
      "GFG\n",
      "09-12-2016\n",
      "prtkagarwal@geeksforgeeks\n"
     ]
    }
   ],
   "source": [
    "print('G','F', sep='', end='')\n",
    "print('G')\n",
    "#\\n provides new line after printing the year\n",
    "print('09','12','2016', sep='-', end='\\n')\n",
    "\n",
    "print('prtk','agarwal', sep='', end='@')\n",
    "print('geeksforgeeks')\n"
   ]
  },
  {
   "cell_type": "markdown",
   "metadata": {},
   "source": [
    "#### <center>8. https://www.geeksforgeeks.org/python-output-formatting/</center>"
   ]
  },
  {
   "cell_type": "markdown",
   "metadata": {},
   "source": [
    "#### <center>Python | Output Formatting</center>"
   ]
  },
  {
   "cell_type": "markdown",
   "metadata": {},
   "source": [
    "#### There are several ways to present the output of a program, data can be printed in a human-readable form, or written to a file for future use or even in some other specified form. \n",
    "\n",
    "#### Sometimes user often wants more control the formatting of output than simply printing space-separated values. There are several ways to format output. \n",
    " \n",
    "\n",
    "#### To use formatted string literals, begin a string with f or F before the opening quotation mark or triple quotation mark.\n",
    "\n",
    "#### The str.format() method of strings help a user to get a fancier Output\n",
    "\n",
    "#### Users can do all the string handling by using string slicing and concatenation operations to create any layout that the user wants. \n",
    "\n",
    "#### The string type has some methods that perform useful operations for padding strings to a given column width."
   ]
  },
  {
   "cell_type": "markdown",
   "metadata": {},
   "source": [
    "#### <center>Formatting output using String modulo operator(%)</center>\n",
    "#### The % operator can also be used for string formatting. It interprets the left argument much like a printf()-style format as in C language string to be applied to the right argument. \n",
    "\n",
    "#### In Python, there is no printf() function but the functionality of the ancient printf is contained in Python. \n",
    "\n",
    "#### To this purpose, the modulo operator % is overloaded by the string class to perform string formatting.\n",
    "\n",
    "#### Therefore, it is often called a string modulo (or sometimes even called modulus) operator. \n",
    "#### The string modulo operator ( % ) is still available in Python(3.x) and the user is using it widely. But nowadays the old style of formatting is removed from the language. "
   ]
  },
  {
   "cell_type": "code",
   "execution_count": 32,
   "metadata": {},
   "outputs": [
    {
     "name": "stdout",
     "output_type": "stream",
     "text": [
      "Geeks :  1, Portal :  5.33\n",
      "Total students : 240, Boys : 120\n",
      "    031\n",
      " 3.561E+02\n"
     ]
    }
   ],
   "source": [
    "# Python program showing how to use\n",
    "# string modulo operator(%) to print\n",
    "# fancier output\n",
    "\n",
    "# print integer and float value\n",
    "print(\"Geeks : %2d, Portal : %5.2f\" % (1, 05.333))\n",
    "\n",
    "# print integer value\n",
    "print(\"Total students : %3d, Boys : %2d\" % (240, 120))\n",
    "\n",
    "# print octal value\n",
    "print(\"%7.3o\" % (25))\n",
    "\n",
    "# print exponential value\n",
    "print(\"%10.3E\" % (356.08977))\n"
   ]
  },
  {
   "cell_type": "markdown",
   "metadata": {},
   "source": [
    "#### Let’s take a look at the placeholders in our example. \n",
    " \n",
    "\n",
    "#### The first placeholder “%2d” is used for the first component of our tuple, i.e. the integer 1. \n",
    "#### The number will be printed with 2 characters. As 1 consists only of one digit, the output is padded with 1 leading blanks.\n",
    "\n",
    "#### The second one “%5.2f” is a format description for a float number. Like other placeholders, it is introduced with the % character.\n",
    "\n",
    "#### This is followed by the total number of digits the string should contain. This number includes the decimal point and all the digits, i.e. before and after the decimal point.\n",
    "\n",
    "#### Our float number 05.333 has to be formatted with 5 characters. The decimal part of the number or the precision is set to 2, i.e. the number following the “.” in our placeholder. Finally, the last character “f” of our placeholder stands for “float”."
   ]
  },
  {
   "cell_type": "markdown",
   "metadata": {},
   "source": [
    "#### <center>Formatting output using the format method</center>\n",
    "#### The format() method was added in Python(2.6). \n",
    "#### The format method of strings requires more manual effort. Users use {} to mark where a variable will be substituted and can provide detailed formatting directives, but the user also needs to provide the information to be formatted.\n",
    "#### This method lets us concatenate elements within an output through positional formatting. For Example – \n",
    "#### Code 1: "
   ]
  },
  {
   "cell_type": "code",
   "execution_count": 33,
   "metadata": {},
   "outputs": [
    {
     "name": "stdout",
     "output_type": "stream",
     "text": [
      "I love Geeks for \"Geeks!\"\n",
      "Geeks and Portal\n",
      "Portal and Geeks\n",
      "I love Geeks for \"Geeks!\"\n",
      "Geeks and Portal\n"
     ]
    }
   ],
   "source": [
    "# Python program showing\n",
    "# use of format() method\n",
    "\n",
    "# using format() method\n",
    "print('I love {} for \"{}!\"'.format('Geeks', 'Geeks'))\n",
    "\n",
    "# using format() method and refering\n",
    "# a position of the object\n",
    "print('{0} and {1}'.format('Geeks', 'Portal'))\n",
    "\n",
    "print('{1} and {0}'.format('Geeks', 'Portal'))\n",
    "\n",
    "\n",
    "# the above formatting can also be done by using f-Strings\n",
    "# Although, this features work only with python 3.6 or above.\n",
    "\n",
    "print(f\"I love {'Geeks'} for \\\"{'Geeks'}!\\\"\")\n",
    "\n",
    "# using format() method and refering\n",
    "# a position of the object\n",
    "print(f\"{'Geeks'} and {'Portal'}\")\n"
   ]
  },
  {
   "cell_type": "markdown",
   "metadata": {},
   "source": [
    "#### The brackets and characters within them (called format fields) are replaced with the objects passed into the format() method. \n",
    "\n",
    "#### A number in the brackets can be used to refer to the position of the object passed into the format() method. "
   ]
  },
  {
   "cell_type": "markdown",
   "metadata": {},
   "source": [
    "#### Code 2: "
   ]
  },
  {
   "cell_type": "code",
   "execution_count": 34,
   "metadata": {},
   "outputs": [
    {
     "name": "stdout",
     "output_type": "stream",
     "text": [
      "Number one portal is Geeks, For, and Geeks.\n",
      "Geeks :12, Portal :    0.55\n",
      "Second argument:  11, first one:   47.42\n",
      "Geeks:   453, Portal:    59.06\n"
     ]
    }
   ],
   "source": [
    "# Python program showing\n",
    "# a use of format() method\n",
    "\n",
    "# combining positional and keyword arguments\n",
    "print('Number one portal is {0}, {1}, and {other}.'\n",
    "\t.format('Geeks', 'For', other ='Geeks'))\n",
    "\n",
    "# using format() method with number\n",
    "print(\"Geeks :{0:2d}, Portal :{1:8.2f}\".\n",
    "\tformat(12, 00.546))\n",
    "\n",
    "# Changing positional argument\n",
    "print(\"Second argument: {1:3d}, first one: {0:7.2f}\".\n",
    "\tformat(47.42, 11))\n",
    "\n",
    "print(\"Geeks: {a:5d}, Portal: {p:8.2f}\".\n",
    "\tformat(a = 453, p = 59.058))\n"
   ]
  },
  {
   "cell_type": "markdown",
   "metadata": {},
   "source": [
    "#### Code 3:"
   ]
  },
  {
   "cell_type": "code",
   "execution_count": 35,
   "metadata": {},
   "outputs": [
    {
     "name": "stdout",
     "output_type": "stream",
     "text": [
      "Geeks: 4127; For: 4098; Geeks: 8637678\n",
      "I love GeeksForGeeks computer Portal\n"
     ]
    }
   ],
   "source": [
    "# Python program to\n",
    "# show format () is\n",
    "# used in dictionary\n",
    "\n",
    "tab = {'geeks': 4127, 'for': 4098, 'geek': 8637678}\n",
    "\n",
    "# using format() in dictionary\n",
    "print('Geeks: {0[geeks]:d}; For: {0[for]:d}; '\n",
    "\t'Geeks: {0[geek]:d}'.format(tab))\n",
    "\n",
    "data = dict(fun =\"GeeksForGeeks\", adj =\"Portal\")\n",
    "\n",
    "# using format() in dictionary\n",
    "print(\"I love {fun} computer {adj}\".format(**data))\n"
   ]
  },
  {
   "cell_type": "markdown",
   "metadata": {},
   "source": [
    "#### Formatting output using the String method : \n",
    "#### This output is formatted by using string slicing and concatenation operations.\n",
    "\n",
    "#### The string type has some methods that help in formatting output in a fancier way. Some of method which help in formatting a output are str.ljust(), str.rjust(), str.centre()"
   ]
  },
  {
   "cell_type": "code",
   "execution_count": 36,
   "metadata": {},
   "outputs": [
    {
     "name": "stdout",
     "output_type": "stream",
     "text": [
      "Center aligned string with fillchr: \n",
      "##########I love geeksforgeeks##########\n",
      "The left aligned string is : \n",
      "I love geeksforgeeks--------------------\n",
      "The right aligned string is : \n",
      "--------------------I love geeksforgeeks\n"
     ]
    }
   ],
   "source": [
    "# Python program to\n",
    "# format a output using\n",
    "# string() method\n",
    "\n",
    "cstr = \"I love geeksforgeeks\"\n",
    "\n",
    "# Printing the center aligned\n",
    "# string with fillchr\n",
    "print (\"Center aligned string with fillchr: \")\n",
    "print (cstr.center(40, '#'))\n",
    "\n",
    "# Printing the left aligned\n",
    "# string with \"-\" padding\n",
    "print (\"The left aligned string is : \")\n",
    "print (cstr.ljust(40, '-'))\n",
    "\n",
    "# Printing the right aligned string\n",
    "# with \"-\" padding\n",
    "print (\"The right aligned string is : \")\n",
    "print (cstr.rjust(40, '-'))\n"
   ]
  }
 ],
 "metadata": {
  "kernelspec": {
   "display_name": "Python 3",
   "language": "python",
   "name": "python3"
  },
  "language_info": {
   "codemirror_mode": {
    "name": "ipython",
    "version": 3
   },
   "file_extension": ".py",
   "mimetype": "text/x-python",
   "name": "python",
   "nbconvert_exporter": "python",
   "pygments_lexer": "ipython3",
   "version": "3.8.5"
  }
 },
 "nbformat": 4,
 "nbformat_minor": 4
}
